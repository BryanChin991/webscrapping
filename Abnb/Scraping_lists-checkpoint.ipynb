{
 "cells": [
  {
   "cell_type": "markdown",
   "metadata": {},
   "source": [
    "# Introduction\n",
    "<a id=\"0\"></a>"
   ]
  },
  {
   "cell_type": "markdown",
   "metadata": {},
   "source": [
    "- This is a Web Scraping and data analysis project for Airbnb listing. The data was scraped from website: https://www.airbnb.com/ using BeautifulSoup and requests. The raw data was compiled, and data cleaning was performed to generate meaningful data frame using pandas. The clean dataset will then analyzed using numpy, matplotlib and seaborn. Below is the series of questions asking during data analysis\n",
    "\n",
    "1. [What Room type has highest price in MYR (Overall and per guest) ?](#1) \n",
    "2. [Did wifi, air-cond, kitchen or self-check bring impact to the price ?](#2)\n",
    "    - [wifi](#3)\n",
    "    - [air-cond](#4)\n",
    "    - [kitchen](#5)\n",
    "    - [Self-check in](#6)\n",
    "    \n",
    "3. [Bed type, Number of bed and price relationship](#8)\n",
    "4. [Did number of bath bring impact to the price ?](#9)\n",
    "5. [Correlation between rating and price](#7)"
   ]
  },
  {
   "cell_type": "code",
   "execution_count": 1,
   "metadata": {},
   "outputs": [],
   "source": [
    "import os\n",
    "import pandas as pd\n",
    "import numpy as np\n",
    "import matplotlib.pyplot as plt\n",
    "import seaborn as sns"
   ]
  },
  {
   "cell_type": "markdown",
   "metadata": {},
   "source": [
    "# Data Compilation"
   ]
  },
  {
   "cell_type": "markdown",
   "metadata": {},
   "source": [
    "### Import listings files"
   ]
  },
  {
   "cell_type": "code",
   "execution_count": 2,
   "metadata": {},
   "outputs": [],
   "source": [
    "directory = '/Users/Asus/Desktop/Unity Game/python/Data_Analysis/WebScrapping/Abnb/Scraping_lists'\n",
    "\n",
    "df = pd.DataFrame()\n",
    "for file in os.listdir(directory):\n",
    "    df = df.append((pd.read_csv(os.path.join(directory, file))), ignore_index=True)"
   ]
  },
  {
   "cell_type": "markdown",
   "metadata": {},
   "source": [
    "### FIrst glance of data"
   ]
  },
  {
   "cell_type": "code",
   "execution_count": 3,
   "metadata": {},
   "outputs": [
    {
     "data": {
      "text/html": [
       "<div>\n",
       "<style scoped>\n",
       "    .dataframe tbody tr th:only-of-type {\n",
       "        vertical-align: middle;\n",
       "    }\n",
       "\n",
       "    .dataframe tbody tr th {\n",
       "        vertical-align: top;\n",
       "    }\n",
       "\n",
       "    .dataframe thead th {\n",
       "        text-align: right;\n",
       "    }\n",
       "</style>\n",
       "<table border=\"1\" class=\"dataframe\">\n",
       "  <thead>\n",
       "    <tr style=\"text-align: right;\">\n",
       "      <th></th>\n",
       "      <th>Room type</th>\n",
       "      <th>Name</th>\n",
       "      <th>Descriptions</th>\n",
       "      <th>Rating</th>\n",
       "      <th>Price</th>\n",
       "    </tr>\n",
       "  </thead>\n",
       "  <tbody>\n",
       "    <tr>\n",
       "      <th>0</th>\n",
       "      <td>Entire serviced apartment in Kuala Lumpur</td>\n",
       "      <td>LUXURY Studio with NETFLIX &amp; SKY POOL at CEYLONZ</td>\n",
       "      <td>4 guests, Studio, 1 bed, 1 bath, Wifi, Air con...</td>\n",
       "      <td>4.86</td>\n",
       "      <td>$19 per night</td>\n",
       "    </tr>\n",
       "    <tr>\n",
       "      <th>1</th>\n",
       "      <td>Entire serviced apartment in Kuala Lumpur</td>\n",
       "      <td>★Studio★KL★JLN TUN RAZAK★10min KLCC★IJN★TV Box★</td>\n",
       "      <td>2 guests, Studio, 1 bed, 1 bath, Wifi, Air con...</td>\n",
       "      <td>4.77</td>\n",
       "      <td>$26 per night</td>\n",
       "    </tr>\n",
       "    <tr>\n",
       "      <th>2</th>\n",
       "      <td>Entire rental unit in Kuala Lumpur</td>\n",
       "      <td>Staycation for Fully Vaccinated Guest. KLCC area</td>\n",
       "      <td>2 guests, 1 bedroom, 1 bed, 1 bath, Wifi, Air ...</td>\n",
       "      <td>4.95</td>\n",
       "      <td>$35 per night</td>\n",
       "    </tr>\n",
       "    <tr>\n",
       "      <th>3</th>\n",
       "      <td>Entire serviced apartment in Kuala Lumpur</td>\n",
       "      <td>350M TO KLCC,VORTEX HIGH FLOOR KLCC VIEW@BLACK...</td>\n",
       "      <td>6 guests, 3 bedrooms, 3 beds, 2 baths, Wifi, A...</td>\n",
       "      <td>NaN</td>\n",
       "      <td>$11 per night</td>\n",
       "    </tr>\n",
       "    <tr>\n",
       "      <th>4</th>\n",
       "      <td>Hotel room in Kuala Lumpur</td>\n",
       "      <td>Superior Queen Room</td>\n",
       "      <td>2 guests, 1 bedroom, 1 bed, 1 private bath, Wi...</td>\n",
       "      <td>4.51</td>\n",
       "      <td>$13 per night</td>\n",
       "    </tr>\n",
       "  </tbody>\n",
       "</table>\n",
       "</div>"
      ],
      "text/plain": [
       "                                   Room type  \\\n",
       "0  Entire serviced apartment in Kuala Lumpur   \n",
       "1  Entire serviced apartment in Kuala Lumpur   \n",
       "2         Entire rental unit in Kuala Lumpur   \n",
       "3  Entire serviced apartment in Kuala Lumpur   \n",
       "4                 Hotel room in Kuala Lumpur   \n",
       "\n",
       "                                                Name  \\\n",
       "0   LUXURY Studio with NETFLIX & SKY POOL at CEYLONZ   \n",
       "1    ★Studio★KL★JLN TUN RAZAK★10min KLCC★IJN★TV Box★   \n",
       "2   Staycation for Fully Vaccinated Guest. KLCC area   \n",
       "3  350M TO KLCC,VORTEX HIGH FLOOR KLCC VIEW@BLACK...   \n",
       "4                                Superior Queen Room   \n",
       "\n",
       "                                        Descriptions  Rating          Price  \n",
       "0  4 guests, Studio, 1 bed, 1 bath, Wifi, Air con...    4.86  $19 per night  \n",
       "1  2 guests, Studio, 1 bed, 1 bath, Wifi, Air con...    4.77  $26 per night  \n",
       "2  2 guests, 1 bedroom, 1 bed, 1 bath, Wifi, Air ...    4.95  $35 per night  \n",
       "3  6 guests, 3 bedrooms, 3 beds, 2 baths, Wifi, A...     NaN  $11 per night  \n",
       "4  2 guests, 1 bedroom, 1 bed, 1 private bath, Wi...    4.51  $13 per night  "
      ]
     },
     "execution_count": 3,
     "metadata": {},
     "output_type": "execute_result"
    }
   ],
   "source": [
    "df.to_csv('/Users/Asus/Desktop/Unity Game/python/Data_Analysis/WebScrapping/Abnb/dataset_full.csv', index=False)\n",
    "df.head()"
   ]
  },
  {
   "cell_type": "markdown",
   "metadata": {},
   "source": [
    "Based on data, we can extract and generate new features as shown below:\n",
    "\n",
    "    Original Columns    New Columns\n",
    "  1. Room type.............Room(type) & Location\n",
    "  2. Description...........Number of guests, Bed type, number of bed, number of bath, wifi, Air-cond, Kitchen and Self check-in\n",
    "  3. Rating................(unchange)\n",
    "  4. Price.................Price_in_MYR"
   ]
  },
  {
   "cell_type": "markdown",
   "metadata": {},
   "source": [
    "# Data Cleaning"
   ]
  },
  {
   "cell_type": "markdown",
   "metadata": {},
   "source": [
    "### Checking null value in all columns, and drop the row"
   ]
  },
  {
   "cell_type": "code",
   "execution_count": 4,
   "metadata": {},
   "outputs": [],
   "source": [
    "# checking null row\n",
    "df[df.isnull().any(axis=1)]\n",
    "# drop null price row / drop all null values in row\n",
    "df.dropna(how='all', inplace=True)"
   ]
  },
  {
   "cell_type": "markdown",
   "metadata": {},
   "source": [
    "### Remove duplicate row"
   ]
  },
  {
   "cell_type": "code",
   "execution_count": 5,
   "metadata": {},
   "outputs": [],
   "source": [
    "# remove duplicate row\n",
    "duplicate = df[df['Name'].duplicated(keep=False)]\n",
    "df.drop_duplicates(keep='first', inplace=True)\n",
    "df = df.reset_index()"
   ]
  },
  {
   "cell_type": "markdown",
   "metadata": {},
   "source": [
    "### Checking row number and Null/ empty row again"
   ]
  },
  {
   "cell_type": "code",
   "execution_count": 6,
   "metadata": {},
   "outputs": [
    {
     "name": "stdout",
     "output_type": "stream",
     "text": [
      "Length of row 273, number of null:\n",
      "index            0\n",
      "Room type        0\n",
      "Name             0\n",
      "Descriptions     0\n",
      "Rating          16\n",
      "Price            0\n",
      "dtype: int64\n"
     ]
    }
   ],
   "source": [
    "print(f'Length of row {len(df)}, number of null:\\n{df.isnull().sum()}')"
   ]
  },
  {
   "cell_type": "markdown",
   "metadata": {},
   "source": [
    "### New features -  Location\n",
    "- to identify listing area"
   ]
  },
  {
   "cell_type": "code",
   "execution_count": 7,
   "metadata": {},
   "outputs": [
    {
     "data": {
      "text/plain": [
       "Kuala Lumpur                         193\n",
       "Petaling Jaya                         12\n",
       "Federal Territory of Kuala Lumpur      9\n",
       "Bukit Bintang                          7\n",
       "Cheras                                 7\n",
       "Cyberjaya                              7\n",
       "Balakong                               5\n",
       "Shah Alam                              4\n",
       "Kuala Kubu Baru                        4\n",
       "Selangor                               3\n",
       "Batu 9 Cheras                          3\n",
       "Seri Kembangan                         2\n",
       "Hulu Langat                            2\n",
       "Sepang                                 1\n",
       "Ampang                                 1\n",
       "Sri Hartamas                           1\n",
       "Lenggeng                               1\n",
       "Damansara Perdana                      1\n",
       "Melaka                                 1\n",
       "Rawang                                 1\n",
       "Kampung Baru                           1\n",
       "i-City                                 1\n",
       "Batang Kali                            1\n",
       "Sungai Buloh                           1\n",
       "Tanjong Sepat                          1\n",
       "Kuala Selangor                         1\n",
       "KUALA LUMPUR                           1\n",
       "Serendah                               1\n",
       "Name: Location, dtype: int64"
      ]
     },
     "execution_count": 7,
     "metadata": {},
     "output_type": "execute_result"
    }
   ],
   "source": [
    "df['Room type'] = df['Room type'].str.replace(' in ', ',')\n",
    "df['Location'] = df['Room type'].apply(lambda x: str(x).split(',')[-1])\n",
    "df['Location'] = df['Location'].str.strip()\n",
    "df.Location.value_counts()"
   ]
  },
  {
   "cell_type": "markdown",
   "metadata": {},
   "source": [
    "### New features -  Room\n",
    "- to remove location, keep only room type info"
   ]
  },
  {
   "cell_type": "code",
   "execution_count": 8,
   "metadata": {},
   "outputs": [
    {
     "data": {
      "text/plain": [
       "Entire rental unit            102\n",
       "Entire condominium (condo)     87\n",
       "Entire serviced apartment      49\n",
       "Entire loft                     9\n",
       "Entire residential home         6\n",
       "Entire villa                    6\n",
       "Entire bungalow                 2\n",
       "Entire guesthouse               2\n",
       "Hotel room                      2\n",
       "Private room                    2\n",
       "Entire apartment                1\n",
       "Entire cottage                  1\n",
       "Farm stay                       1\n",
       "Entire townhouse                1\n",
       "Hut                             1\n",
       "Room                            1\n",
       "Name: Room, dtype: int64"
      ]
     },
     "execution_count": 8,
     "metadata": {},
     "output_type": "execute_result"
    }
   ],
   "source": [
    "df['Room'] = df['Room type'].apply(lambda x : x.split(',')[0])\n",
    "df.Room.value_counts()"
   ]
  },
  {
   "cell_type": "markdown",
   "metadata": {},
   "source": [
    "### New features - Number of Guests"
   ]
  },
  {
   "cell_type": "code",
   "execution_count": 9,
   "metadata": {},
   "outputs": [
    {
     "data": {
      "text/plain": [
       "4     90\n",
       "2     88\n",
       "3     45\n",
       "5     14\n",
       "6     12\n",
       "10     9\n",
       "16     7\n",
       "8      3\n",
       "7      2\n",
       "14     1\n",
       "12     1\n",
       "1      1\n",
       "Name: Number_of_guest, dtype: int64"
      ]
     },
     "execution_count": 9,
     "metadata": {},
     "output_type": "execute_result"
    }
   ],
   "source": [
    "for idx, guests in enumerate(df.Descriptions):\n",
    "    for guest in guests.split(','):\n",
    "        if 'guest' in guest:\n",
    "            guest = guest.split(' ')\n",
    "            df.loc[idx, 'Number_of_guest'] = guest[0]\n",
    "            break\n",
    "df.Number_of_guest = df.Number_of_guest.astype('int64')\n",
    "df.Number_of_guest.value_counts()"
   ]
  },
  {
   "cell_type": "markdown",
   "metadata": {},
   "source": [
    "### New features - Bed type"
   ]
  },
  {
   "cell_type": "code",
   "execution_count": 10,
   "metadata": {},
   "outputs": [
    {
     "data": {
      "text/plain": [
       " 1 bedroom     125\n",
       " Studio        116\n",
       " 2 bedrooms     10\n",
       " 3 bedrooms     10\n",
       " 4 bedrooms      7\n",
       " 5 bedrooms      2\n",
       " 6 bedrooms      2\n",
       " 8 bedrooms      1\n",
       "Name: bed_type, dtype: int64"
      ]
     },
     "execution_count": 10,
     "metadata": {},
     "output_type": "execute_result"
    }
   ],
   "source": [
    "df['bed_type'] = [type.split(',')[1] for type in df.Descriptions]\n",
    "df.bed_type.value_counts()"
   ]
  },
  {
   "cell_type": "markdown",
   "metadata": {},
   "source": [
    "### New features - Number of bed"
   ]
  },
  {
   "cell_type": "code",
   "execution_count": 11,
   "metadata": {},
   "outputs": [
    {
     "data": {
      "text/plain": [
       "1.0     178\n",
       "2.0      48\n",
       "3.0      13\n",
       "4.0       9\n",
       "5.0       5\n",
       "12.0      4\n",
       "0.0       4\n",
       "10.0      2\n",
       "7.0       2\n",
       "6.0       2\n",
       "8.0       2\n",
       "20.0      1\n",
       "18.0      1\n",
       "Name: Number_of_bed, dtype: int64"
      ]
     },
     "execution_count": 11,
     "metadata": {},
     "output_type": "execute_result"
    }
   ],
   "source": [
    "for idx, beds in enumerate(df.Descriptions):\n",
    "    for bed in beds.split(',')[2:]:\n",
    "        if 'bed' in bed:\n",
    "            bed = bed.split(' ')\n",
    "            df.loc[idx, 'Number_of_bed'] = bed[1]\n",
    "            break\n",
    "            \n",
    "df.Number_of_bed = df.Number_of_bed.astype('float64')\n",
    "df.Number_of_bed.value_counts()"
   ]
  },
  {
   "cell_type": "markdown",
   "metadata": {},
   "source": [
    "### New features - Number of bath"
   ]
  },
  {
   "cell_type": "code",
   "execution_count": 12,
   "metadata": {},
   "outputs": [
    {
     "data": {
      "text/plain": [
       "1            200\n",
       "1.5           32\n",
       "2             20\n",
       "3              8\n",
       "4.5            2\n",
       "2.5            2\n",
       "Half-bath      2\n",
       "5              2\n",
       "4              2\n",
       "6              1\n",
       "7              1\n",
       "8              1\n",
       "Name: Number_of_bath, dtype: int64"
      ]
     },
     "execution_count": 12,
     "metadata": {},
     "output_type": "execute_result"
    }
   ],
   "source": [
    "for idx, baths in enumerate(df.Descriptions):\n",
    "    for bath in baths.split(',')[2:]:\n",
    "        if 'bath' in bath:\n",
    "            bath = bath.split(' ')\n",
    "            df.loc[idx, 'Number_of_bath'] = bath[1]\n",
    "            break\n",
    "df.Number_of_bath.value_counts()"
   ]
  },
  {
   "cell_type": "markdown",
   "metadata": {},
   "source": [
    "### New features - Wifi, Air Cond, Kitchen, Self Check-in"
   ]
  },
  {
   "cell_type": "code",
   "execution_count": 13,
   "metadata": {},
   "outputs": [],
   "source": [
    "df['wifi'] = [True if 'Wifi' in wifi else False for wifi in df.Descriptions]\n",
    "df['Air_cond'] = [True if 'Air conditioning' in ac else False for ac in df.Descriptions]\n",
    "df['Kitchen'] = [True if 'Kitchen' in Kitchen else False for Kitchen in df.Descriptions]\n",
    "df['Self_check_in'] = [True if 'Self check-in' in sci else False for sci in df.Descriptions]"
   ]
  },
  {
   "cell_type": "markdown",
   "metadata": {},
   "source": [
    "### New features - Price in MYR"
   ]
  },
  {
   "cell_type": "code",
   "execution_count": 14,
   "metadata": {},
   "outputs": [
    {
     "data": {
      "text/plain": [
       "per night    273\n",
       "Name: Price, dtype: int64"
      ]
     },
     "execution_count": 14,
     "metadata": {},
     "output_type": "execute_result"
    }
   ],
   "source": [
    "us_to_myr = 4.5\n",
    "\n",
    "df['Price_in_MYR'] = df.Price.apply(lambda x: int(x.split(' ')[0].replace('$', '')) * us_to_myr)\n",
    "# to double confirm if every listing is per night\n",
    "unit_price = df.Price.apply(lambda x: ' '.join(x.split(' ')[1:]))\n",
    "unit_price.value_counts()"
   ]
  },
  {
   "cell_type": "markdown",
   "metadata": {},
   "source": [
    "### New features - Price in MYR per guest"
   ]
  },
  {
   "cell_type": "code",
   "execution_count": 15,
   "metadata": {},
   "outputs": [
    {
     "data": {
      "text/html": [
       "<div>\n",
       "<style scoped>\n",
       "    .dataframe tbody tr th:only-of-type {\n",
       "        vertical-align: middle;\n",
       "    }\n",
       "\n",
       "    .dataframe tbody tr th {\n",
       "        vertical-align: top;\n",
       "    }\n",
       "\n",
       "    .dataframe thead th {\n",
       "        text-align: right;\n",
       "    }\n",
       "</style>\n",
       "<table border=\"1\" class=\"dataframe\">\n",
       "  <thead>\n",
       "    <tr style=\"text-align: right;\">\n",
       "      <th></th>\n",
       "      <th>Price_in_MYR</th>\n",
       "      <th>Number_of_guest</th>\n",
       "      <th>Price_in_MYR_per_guest</th>\n",
       "    </tr>\n",
       "  </thead>\n",
       "  <tbody>\n",
       "    <tr>\n",
       "      <th>0</th>\n",
       "      <td>85.5</td>\n",
       "      <td>4</td>\n",
       "      <td>21.375</td>\n",
       "    </tr>\n",
       "    <tr>\n",
       "      <th>1</th>\n",
       "      <td>117.0</td>\n",
       "      <td>2</td>\n",
       "      <td>58.500</td>\n",
       "    </tr>\n",
       "    <tr>\n",
       "      <th>2</th>\n",
       "      <td>157.5</td>\n",
       "      <td>2</td>\n",
       "      <td>78.750</td>\n",
       "    </tr>\n",
       "    <tr>\n",
       "      <th>3</th>\n",
       "      <td>49.5</td>\n",
       "      <td>6</td>\n",
       "      <td>8.250</td>\n",
       "    </tr>\n",
       "    <tr>\n",
       "      <th>4</th>\n",
       "      <td>58.5</td>\n",
       "      <td>2</td>\n",
       "      <td>29.250</td>\n",
       "    </tr>\n",
       "  </tbody>\n",
       "</table>\n",
       "</div>"
      ],
      "text/plain": [
       "   Price_in_MYR  Number_of_guest  Price_in_MYR_per_guest\n",
       "0          85.5                4                  21.375\n",
       "1         117.0                2                  58.500\n",
       "2         157.5                2                  78.750\n",
       "3          49.5                6                   8.250\n",
       "4          58.5                2                  29.250"
      ]
     },
     "execution_count": 15,
     "metadata": {},
     "output_type": "execute_result"
    }
   ],
   "source": [
    "df['Price_in_MYR_per_guest'] = df['Price_in_MYR'] / df['Number_of_guest']\n",
    "df[['Price_in_MYR', 'Number_of_guest', 'Price_in_MYR_per_guest']].head()"
   ]
  },
  {
   "cell_type": "markdown",
   "metadata": {},
   "source": [
    "### New dataset after cleaning"
   ]
  },
  {
   "cell_type": "code",
   "execution_count": 16,
   "metadata": {},
   "outputs": [
    {
     "data": {
      "text/html": [
       "<div>\n",
       "<style scoped>\n",
       "    .dataframe tbody tr th:only-of-type {\n",
       "        vertical-align: middle;\n",
       "    }\n",
       "\n",
       "    .dataframe tbody tr th {\n",
       "        vertical-align: top;\n",
       "    }\n",
       "\n",
       "    .dataframe thead th {\n",
       "        text-align: right;\n",
       "    }\n",
       "</style>\n",
       "<table border=\"1\" class=\"dataframe\">\n",
       "  <thead>\n",
       "    <tr style=\"text-align: right;\">\n",
       "      <th></th>\n",
       "      <th>Location</th>\n",
       "      <th>Room</th>\n",
       "      <th>Number_of_guest</th>\n",
       "      <th>bed_type</th>\n",
       "      <th>Number_of_bed</th>\n",
       "      <th>Number_of_bath</th>\n",
       "      <th>wifi</th>\n",
       "      <th>Air_cond</th>\n",
       "      <th>Kitchen</th>\n",
       "      <th>Self_check_in</th>\n",
       "      <th>Rating</th>\n",
       "      <th>Price_in_MYR</th>\n",
       "      <th>Price_in_MYR_per_guest</th>\n",
       "    </tr>\n",
       "  </thead>\n",
       "  <tbody>\n",
       "    <tr>\n",
       "      <th>0</th>\n",
       "      <td>Kuala Lumpur</td>\n",
       "      <td>Entire serviced apartment</td>\n",
       "      <td>4</td>\n",
       "      <td>Studio</td>\n",
       "      <td>1.0</td>\n",
       "      <td>1</td>\n",
       "      <td>True</td>\n",
       "      <td>True</td>\n",
       "      <td>True</td>\n",
       "      <td>True</td>\n",
       "      <td>4.86</td>\n",
       "      <td>85.5</td>\n",
       "      <td>21.375</td>\n",
       "    </tr>\n",
       "    <tr>\n",
       "      <th>1</th>\n",
       "      <td>Kuala Lumpur</td>\n",
       "      <td>Entire serviced apartment</td>\n",
       "      <td>2</td>\n",
       "      <td>Studio</td>\n",
       "      <td>1.0</td>\n",
       "      <td>1</td>\n",
       "      <td>True</td>\n",
       "      <td>True</td>\n",
       "      <td>True</td>\n",
       "      <td>False</td>\n",
       "      <td>4.77</td>\n",
       "      <td>117.0</td>\n",
       "      <td>58.500</td>\n",
       "    </tr>\n",
       "    <tr>\n",
       "      <th>2</th>\n",
       "      <td>Kuala Lumpur</td>\n",
       "      <td>Entire rental unit</td>\n",
       "      <td>2</td>\n",
       "      <td>1 bedroom</td>\n",
       "      <td>1.0</td>\n",
       "      <td>1</td>\n",
       "      <td>True</td>\n",
       "      <td>True</td>\n",
       "      <td>True</td>\n",
       "      <td>True</td>\n",
       "      <td>4.95</td>\n",
       "      <td>157.5</td>\n",
       "      <td>78.750</td>\n",
       "    </tr>\n",
       "    <tr>\n",
       "      <th>3</th>\n",
       "      <td>Kuala Lumpur</td>\n",
       "      <td>Entire serviced apartment</td>\n",
       "      <td>6</td>\n",
       "      <td>3 bedrooms</td>\n",
       "      <td>3.0</td>\n",
       "      <td>2</td>\n",
       "      <td>True</td>\n",
       "      <td>True</td>\n",
       "      <td>True</td>\n",
       "      <td>False</td>\n",
       "      <td>NaN</td>\n",
       "      <td>49.5</td>\n",
       "      <td>8.250</td>\n",
       "    </tr>\n",
       "    <tr>\n",
       "      <th>4</th>\n",
       "      <td>Kuala Lumpur</td>\n",
       "      <td>Hotel room</td>\n",
       "      <td>2</td>\n",
       "      <td>1 bedroom</td>\n",
       "      <td>1.0</td>\n",
       "      <td>1</td>\n",
       "      <td>True</td>\n",
       "      <td>True</td>\n",
       "      <td>False</td>\n",
       "      <td>True</td>\n",
       "      <td>4.51</td>\n",
       "      <td>58.5</td>\n",
       "      <td>29.250</td>\n",
       "    </tr>\n",
       "  </tbody>\n",
       "</table>\n",
       "</div>"
      ],
      "text/plain": [
       "       Location                       Room  Number_of_guest     bed_type  \\\n",
       "0  Kuala Lumpur  Entire serviced apartment                4       Studio   \n",
       "1  Kuala Lumpur  Entire serviced apartment                2       Studio   \n",
       "2  Kuala Lumpur         Entire rental unit                2    1 bedroom   \n",
       "3  Kuala Lumpur  Entire serviced apartment                6   3 bedrooms   \n",
       "4  Kuala Lumpur                 Hotel room                2    1 bedroom   \n",
       "\n",
       "   Number_of_bed Number_of_bath  wifi  Air_cond  Kitchen  Self_check_in  \\\n",
       "0            1.0              1  True      True     True           True   \n",
       "1            1.0              1  True      True     True          False   \n",
       "2            1.0              1  True      True     True           True   \n",
       "3            3.0              2  True      True     True          False   \n",
       "4            1.0              1  True      True    False           True   \n",
       "\n",
       "   Rating  Price_in_MYR  Price_in_MYR_per_guest  \n",
       "0    4.86          85.5                  21.375  \n",
       "1    4.77         117.0                  58.500  \n",
       "2    4.95         157.5                  78.750  \n",
       "3     NaN          49.5                   8.250  \n",
       "4    4.51          58.5                  29.250  "
      ]
     },
     "execution_count": 16,
     "metadata": {},
     "output_type": "execute_result"
    }
   ],
   "source": [
    "useful_features = ['Location', 'Room', 'Number_of_guest', 'bed_type', 'Number_of_bed', 'Number_of_bath', 'wifi', 'Air_cond', 'Kitchen', 'Self_check_in', 'Rating', 'Price_in_MYR', 'Price_in_MYR_per_guest']\n",
    "data = df[useful_features]\n",
    "data.to_csv('/Users/Asus/Desktop/Unity Game/python/Data_Analysis/WebScrapping/Abnb/dataset_afterClean.csv', index=False)\n",
    "data.head()"
   ]
  },
  {
   "cell_type": "markdown",
   "metadata": {},
   "source": [
    "# Data Analysis"
   ]
  },
  {
   "cell_type": "markdown",
   "metadata": {},
   "source": [
    "<a id=\"1\"></a>\n",
    "### 1. What Room type has highest price in MYR ?\n",
    "\n",
    "[back to top](#0)"
   ]
  },
  {
   "cell_type": "markdown",
   "metadata": {},
   "source": [
    "#### Overall"
   ]
  },
  {
   "cell_type": "code",
   "execution_count": 17,
   "metadata": {},
   "outputs": [
    {
     "data": {
      "text/html": [
       "<div>\n",
       "<style scoped>\n",
       "    .dataframe tbody tr th:only-of-type {\n",
       "        vertical-align: middle;\n",
       "    }\n",
       "\n",
       "    .dataframe tbody tr th {\n",
       "        vertical-align: top;\n",
       "    }\n",
       "\n",
       "    .dataframe thead th {\n",
       "        text-align: right;\n",
       "    }\n",
       "</style>\n",
       "<table border=\"1\" class=\"dataframe\">\n",
       "  <thead>\n",
       "    <tr style=\"text-align: right;\">\n",
       "      <th></th>\n",
       "      <th>median</th>\n",
       "      <th>mean</th>\n",
       "      <th>max</th>\n",
       "      <th>min</th>\n",
       "      <th>count</th>\n",
       "    </tr>\n",
       "    <tr>\n",
       "      <th>Room</th>\n",
       "      <th></th>\n",
       "      <th></th>\n",
       "      <th></th>\n",
       "      <th></th>\n",
       "      <th></th>\n",
       "    </tr>\n",
       "  </thead>\n",
       "  <tbody>\n",
       "    <tr>\n",
       "      <th>Farm stay</th>\n",
       "      <td>1849.5</td>\n",
       "      <td>1849.5</td>\n",
       "      <td>1849.5</td>\n",
       "      <td>1849.5</td>\n",
       "      <td>1</td>\n",
       "    </tr>\n",
       "    <tr>\n",
       "      <th>Entire villa</th>\n",
       "      <td>1201.5</td>\n",
       "      <td>1405.5</td>\n",
       "      <td>2826.0</td>\n",
       "      <td>787.5</td>\n",
       "      <td>6</td>\n",
       "    </tr>\n",
       "    <tr>\n",
       "      <th>Hut</th>\n",
       "      <td>1143.0</td>\n",
       "      <td>1143.0</td>\n",
       "      <td>1143.0</td>\n",
       "      <td>1143.0</td>\n",
       "      <td>1</td>\n",
       "    </tr>\n",
       "    <tr>\n",
       "      <th>Entire cottage</th>\n",
       "      <td>886.5</td>\n",
       "      <td>886.5</td>\n",
       "      <td>886.5</td>\n",
       "      <td>886.5</td>\n",
       "      <td>1</td>\n",
       "    </tr>\n",
       "    <tr>\n",
       "      <th>Entire townhouse</th>\n",
       "      <td>805.5</td>\n",
       "      <td>805.5</td>\n",
       "      <td>805.5</td>\n",
       "      <td>805.5</td>\n",
       "      <td>1</td>\n",
       "    </tr>\n",
       "  </tbody>\n",
       "</table>\n",
       "</div>"
      ],
      "text/plain": [
       "                  median    mean     max     min  count\n",
       "Room                                                   \n",
       "Farm stay         1849.5  1849.5  1849.5  1849.5      1\n",
       "Entire villa      1201.5  1405.5  2826.0   787.5      6\n",
       "Hut               1143.0  1143.0  1143.0  1143.0      1\n",
       "Entire cottage     886.5   886.5   886.5   886.5      1\n",
       "Entire townhouse   805.5   805.5   805.5   805.5      1"
      ]
     },
     "execution_count": 17,
     "metadata": {},
     "output_type": "execute_result"
    }
   ],
   "source": [
    "highest_room_price = data.groupby('Room').agg({'Price_in_MYR': ['median', 'mean', 'max', 'min','count']})\n",
    "highest_room_price_sort = highest_room_price.Price_in_MYR.sort_values(by='median', ascending=False)\n",
    "highest_room_price_sort.head()"
   ]
  },
  {
   "cell_type": "code",
   "execution_count": 18,
   "metadata": {},
   "outputs": [
    {
     "data": {
      "text/plain": [
       "Text(0.5, 0, 'median price in MYR')"
      ]
     },
     "execution_count": 18,
     "metadata": {},
     "output_type": "execute_result"
    },
    {
     "data": {
      "image/png": "[encoded data removed]",
      "text/plain": [
       "<Figure size 1080x360 with 1 Axes>"
      ]
     },
     "metadata": {
      "needs_background": "light"
     },
     "output_type": "display_data"
    }
   ],
   "source": [
    "room = highest_room_price_sort.index\n",
    "plt.figure(figsize=(15, 5))\n",
    "sns.barplot(data=highest_room_price_sort, y=room, x='median')\n",
    "plt.xlabel('median price in MYR')"
   ]
  },
  {
   "cell_type": "code",
   "execution_count": 19,
   "metadata": {},
   "outputs": [
    {
     "data": {
      "image/png": "[encoded data removed]",
      "text/plain": [
       "<Figure size 360x360 with 1 Axes>"
      ]
     },
     "metadata": {},
     "output_type": "display_data"
    }
   ],
   "source": [
    "plt.figure(figsize=(5, 5))\n",
    "plt.pie(data=highest_room_price_sort, x='mean', labels=room, autopct='%.0f%%')\n",
    "plt.show()"
   ]
  },
  {
   "cell_type": "code",
   "execution_count": 20,
   "metadata": {},
   "outputs": [
    {
     "name": "stdout",
     "output_type": "stream",
     "text": [
      "Room versue number of guests\n"
     ]
    },
    {
     "data": {
      "text/html": [
       "<div>\n",
       "<style scoped>\n",
       "    .dataframe tbody tr th:only-of-type {\n",
       "        vertical-align: middle;\n",
       "    }\n",
       "\n",
       "    .dataframe tbody tr th {\n",
       "        vertical-align: top;\n",
       "    }\n",
       "\n",
       "    .dataframe thead th {\n",
       "        text-align: right;\n",
       "    }\n",
       "</style>\n",
       "<table border=\"1\" class=\"dataframe\">\n",
       "  <thead>\n",
       "    <tr style=\"text-align: right;\">\n",
       "      <th></th>\n",
       "      <th>Number_of_guest</th>\n",
       "    </tr>\n",
       "    <tr>\n",
       "      <th>Room</th>\n",
       "      <th></th>\n",
       "    </tr>\n",
       "  </thead>\n",
       "  <tbody>\n",
       "    <tr>\n",
       "      <th>Hut</th>\n",
       "      <td>16.0</td>\n",
       "    </tr>\n",
       "    <tr>\n",
       "      <th>Entire bungalow</th>\n",
       "      <td>15.0</td>\n",
       "    </tr>\n",
       "    <tr>\n",
       "      <th>Entire cottage</th>\n",
       "      <td>12.0</td>\n",
       "    </tr>\n",
       "    <tr>\n",
       "      <th>Entire residential home</th>\n",
       "      <td>10.0</td>\n",
       "    </tr>\n",
       "    <tr>\n",
       "      <th>Entire townhouse</th>\n",
       "      <td>10.0</td>\n",
       "    </tr>\n",
       "    <tr>\n",
       "      <th>Entire villa</th>\n",
       "      <td>10.0</td>\n",
       "    </tr>\n",
       "    <tr>\n",
       "      <th>Entire guesthouse</th>\n",
       "      <td>9.5</td>\n",
       "    </tr>\n",
       "    <tr>\n",
       "      <th>Farm stay</th>\n",
       "      <td>8.0</td>\n",
       "    </tr>\n",
       "  </tbody>\n",
       "</table>\n",
       "</div>"
      ],
      "text/plain": [
       "                         Number_of_guest\n",
       "Room                                    \n",
       "Hut                                 16.0\n",
       "Entire bungalow                     15.0\n",
       "Entire cottage                      12.0\n",
       "Entire residential home             10.0\n",
       "Entire townhouse                    10.0\n",
       "Entire villa                        10.0\n",
       "Entire guesthouse                    9.5\n",
       "Farm stay                            8.0"
      ]
     },
     "execution_count": 20,
     "metadata": {},
     "output_type": "execute_result"
    }
   ],
   "source": [
    "print('Room versue number of guests')\n",
    "data.groupby('Room').agg('median')[['Number_of_guest']].sort_values(by='Number_of_guest', ascending=False).head(8)"
   ]
  },
  {
   "cell_type": "markdown",
   "metadata": {},
   "source": [
    "- No suprise to see, the room with more number of guest are more expansive than those room with fewer guests"
   ]
  },
  {
   "cell_type": "markdown",
   "metadata": {},
   "source": [
    "#### per guest"
   ]
  },
  {
   "cell_type": "code",
   "execution_count": 21,
   "metadata": {},
   "outputs": [
    {
     "data": {
      "text/html": [
       "<div>\n",
       "<style scoped>\n",
       "    .dataframe tbody tr th:only-of-type {\n",
       "        vertical-align: middle;\n",
       "    }\n",
       "\n",
       "    .dataframe tbody tr th {\n",
       "        vertical-align: top;\n",
       "    }\n",
       "\n",
       "    .dataframe thead th {\n",
       "        text-align: right;\n",
       "    }\n",
       "</style>\n",
       "<table border=\"1\" class=\"dataframe\">\n",
       "  <thead>\n",
       "    <tr style=\"text-align: right;\">\n",
       "      <th></th>\n",
       "      <th>median</th>\n",
       "      <th>mean</th>\n",
       "      <th>max</th>\n",
       "      <th>min</th>\n",
       "      <th>count</th>\n",
       "    </tr>\n",
       "    <tr>\n",
       "      <th>Room</th>\n",
       "      <th></th>\n",
       "      <th></th>\n",
       "      <th></th>\n",
       "      <th></th>\n",
       "      <th></th>\n",
       "    </tr>\n",
       "  </thead>\n",
       "  <tbody>\n",
       "    <tr>\n",
       "      <th>Farm stay</th>\n",
       "      <td>231.187500</td>\n",
       "      <td>231.187500</td>\n",
       "      <td>231.1875</td>\n",
       "      <td>231.18750</td>\n",
       "      <td>1</td>\n",
       "    </tr>\n",
       "    <tr>\n",
       "      <th>Entire villa</th>\n",
       "      <td>136.339286</td>\n",
       "      <td>131.537054</td>\n",
       "      <td>176.6250</td>\n",
       "      <td>71.71875</td>\n",
       "      <td>6</td>\n",
       "    </tr>\n",
       "    <tr>\n",
       "      <th>Entire townhouse</th>\n",
       "      <td>80.550000</td>\n",
       "      <td>80.550000</td>\n",
       "      <td>80.5500</td>\n",
       "      <td>80.55000</td>\n",
       "      <td>1</td>\n",
       "    </tr>\n",
       "    <tr>\n",
       "      <th>Entire cottage</th>\n",
       "      <td>73.875000</td>\n",
       "      <td>73.875000</td>\n",
       "      <td>73.8750</td>\n",
       "      <td>73.87500</td>\n",
       "      <td>1</td>\n",
       "    </tr>\n",
       "    <tr>\n",
       "      <th>Hut</th>\n",
       "      <td>71.437500</td>\n",
       "      <td>71.437500</td>\n",
       "      <td>71.4375</td>\n",
       "      <td>71.43750</td>\n",
       "      <td>1</td>\n",
       "    </tr>\n",
       "  </tbody>\n",
       "</table>\n",
       "</div>"
      ],
      "text/plain": [
       "                      median        mean       max        min  count\n",
       "Room                                                                \n",
       "Farm stay         231.187500  231.187500  231.1875  231.18750      1\n",
       "Entire villa      136.339286  131.537054  176.6250   71.71875      6\n",
       "Entire townhouse   80.550000   80.550000   80.5500   80.55000      1\n",
       "Entire cottage     73.875000   73.875000   73.8750   73.87500      1\n",
       "Hut                71.437500   71.437500   71.4375   71.43750      1"
      ]
     },
     "execution_count": 21,
     "metadata": {},
     "output_type": "execute_result"
    }
   ],
   "source": [
    "highest_room_price_per_guest = data.groupby('Room').agg(['median', 'mean', 'max', 'min', 'count'])[['Price_in_MYR_per_guest']]\n",
    "highest_room_price_per_guest_sorted = highest_room_price_per_guest.Price_in_MYR_per_guest.sort_values(by='median', ascending=False)\n",
    "highest_room_price_per_guest_sorted.head()"
   ]
  },
  {
   "cell_type": "code",
   "execution_count": 22,
   "metadata": {},
   "outputs": [
    {
     "data": {
      "text/plain": [
       "Index(['Farm stay', 'Entire villa', 'Entire townhouse', 'Entire cottage',\n",
       "       'Hut', 'Private room', 'Entire apartment', 'Entire bungalow',\n",
       "       'Entire guesthouse', 'Room', 'Entire residential home',\n",
       "       'Entire condominium (condo)', 'Entire serviced apartment',\n",
       "       'Entire rental unit', 'Hotel room', 'Entire loft'],\n",
       "      dtype='object', name='Room')"
      ]
     },
     "execution_count": 22,
     "metadata": {},
     "output_type": "execute_result"
    }
   ],
   "source": [
    "highest_room_price_per_guest_sorted.index"
   ]
  },
  {
   "cell_type": "code",
   "execution_count": 23,
   "metadata": {},
   "outputs": [
    {
     "data": {
      "text/plain": [
       "Text(0.5, 0, 'median price in MYR per guest')"
      ]
     },
     "execution_count": 23,
     "metadata": {},
     "output_type": "execute_result"
    },
    {
     "data": {
      "image/png": "[encoded data removed]",
      "text/plain": [
       "<Figure size 1080x360 with 2 Axes>"
      ]
     },
     "metadata": {
      "needs_background": "light"
     },
     "output_type": "display_data"
    }
   ],
   "source": [
    "room_per_guest = highest_room_price_per_guest_sorted.index\n",
    "\n",
    "fig, ax = plt.subplots(1, 2, figsize=(15, 5))\n",
    "# plt.figure(figsize=(15, 5))\n",
    "sns.barplot(data=highest_room_price_per_guest_sorted, y=room_per_guest, x='median', ax=ax[0])\n",
    "sns.barplot(data=highest_room_price_sort, y=room, x='median', ax=ax[1])\n",
    "plt.xlabel('median price in MYR per guest')"
   ]
  },
  {
   "cell_type": "markdown",
   "metadata": {},
   "source": [
    "- From the comparison of overall's and per guest's room price, still our top 5 expensive room are Farm stay, Entire villa, Entire townhouse, Entire cottage and Hut."
   ]
  },
  {
   "cell_type": "markdown",
   "metadata": {},
   "source": [
    "<a id=\"2\"></a>\n",
    "### 2. Did wifi, air-cond, kitchen or self-check in bring impact the price ?\n",
    "\n",
    "[back to top](#0)"
   ]
  },
  {
   "cell_type": "markdown",
   "metadata": {},
   "source": [
    "#### Wifi vs price <a id=\"3\"></a>"
   ]
  },
  {
   "cell_type": "code",
   "execution_count": 24,
   "metadata": {},
   "outputs": [
    {
     "data": {
      "text/html": [
       "<div>\n",
       "<style scoped>\n",
       "    .dataframe tbody tr th:only-of-type {\n",
       "        vertical-align: middle;\n",
       "    }\n",
       "\n",
       "    .dataframe tbody tr th {\n",
       "        vertical-align: top;\n",
       "    }\n",
       "\n",
       "    .dataframe thead tr th {\n",
       "        text-align: left;\n",
       "    }\n",
       "\n",
       "    .dataframe thead tr:last-of-type th {\n",
       "        text-align: right;\n",
       "    }\n",
       "</style>\n",
       "<table border=\"1\" class=\"dataframe\">\n",
       "  <thead>\n",
       "    <tr>\n",
       "      <th></th>\n",
       "      <th colspan=\"5\" halign=\"left\">Price_in_MYR</th>\n",
       "    </tr>\n",
       "    <tr>\n",
       "      <th></th>\n",
       "      <th>mean</th>\n",
       "      <th>median</th>\n",
       "      <th>max</th>\n",
       "      <th>min</th>\n",
       "      <th>count</th>\n",
       "    </tr>\n",
       "    <tr>\n",
       "      <th>wifi</th>\n",
       "      <th></th>\n",
       "      <th></th>\n",
       "      <th></th>\n",
       "      <th></th>\n",
       "      <th></th>\n",
       "    </tr>\n",
       "  </thead>\n",
       "  <tbody>\n",
       "    <tr>\n",
       "      <th>False</th>\n",
       "      <td>695.25000</td>\n",
       "      <td>661.5</td>\n",
       "      <td>1849.5</td>\n",
       "      <td>54.0</td>\n",
       "      <td>12</td>\n",
       "    </tr>\n",
       "    <tr>\n",
       "      <th>True</th>\n",
       "      <td>159.37931</td>\n",
       "      <td>112.5</td>\n",
       "      <td>2826.0</td>\n",
       "      <td>45.0</td>\n",
       "      <td>261</td>\n",
       "    </tr>\n",
       "  </tbody>\n",
       "</table>\n",
       "</div>"
      ],
      "text/plain": [
       "      Price_in_MYR                           \n",
       "              mean median     max   min count\n",
       "wifi                                         \n",
       "False    695.25000  661.5  1849.5  54.0    12\n",
       "True     159.37931  112.5  2826.0  45.0   261"
      ]
     },
     "execution_count": 24,
     "metadata": {},
     "output_type": "execute_result"
    }
   ],
   "source": [
    "data.groupby('wifi').agg(['mean', 'median', 'max', 'min', 'count'])[['Price_in_MYR']]"
   ]
  },
  {
   "cell_type": "code",
   "execution_count": 25,
   "metadata": {},
   "outputs": [
    {
     "name": "stderr",
     "output_type": "stream",
     "text": [
      "C:\\Users\\Asus\\anaconda3\\lib\\site-packages\\seaborn\\_decorators.py:36: FutureWarning: Pass the following variable as a keyword arg: x. From version 0.12, the only valid positional argument will be `data`, and passing other arguments without an explicit keyword will result in an error or misinterpretation.\n",
      "  warnings.warn(\n",
      "C:\\Users\\Asus\\anaconda3\\lib\\site-packages\\seaborn\\_decorators.py:36: FutureWarning: Pass the following variable as a keyword arg: x. From version 0.12, the only valid positional argument will be `data`, and passing other arguments without an explicit keyword will result in an error or misinterpretation.\n",
      "  warnings.warn(\n"
     ]
    },
    {
     "data": {
      "text/plain": [
       "Text(0.5, 1.0, 'No wifi')"
      ]
     },
     "execution_count": 25,
     "metadata": {},
     "output_type": "execute_result"
    },
    {
     "data": {
      "image/png": "[encoded data removed]",
      "text/plain": [
       "<Figure size 1080x576 with 2 Axes>"
      ]
     },
     "metadata": {
      "needs_background": "light"
     },
     "output_type": "display_data"
    }
   ],
   "source": [
    "fig, ax = plt.subplots(2, 1, figsize=(15, 8), sharex=True)\n",
    "fig.suptitle('Price distribution plot with wifi status', fontsize=20)\n",
    "plt.style.use('seaborn')\n",
    "\n",
    "sns.boxplot(data[df.wifi==True].Price_in_MYR, ax=ax[0])\n",
    "sns.boxplot(data[df.wifi==False].Price_in_MYR, ax=ax[1])\n",
    "ax[0].set_title('Have wifi')\n",
    "ax[1].set_title('No wifi')"
   ]
  },
  {
   "cell_type": "code",
   "execution_count": 26,
   "metadata": {},
   "outputs": [
    {
     "data": {
      "text/html": [
       "<style  type=\"text/css\" >\n",
       "</style><table id=\"T_21b96ac8_1f96_11ec_ad98_d8c0a658e5fa\" style='display:inline'><caption>Table for room do not have wifi</caption><thead>    <tr>        <th class=\"blank level0\" ></th>        <th class=\"col_heading level0 col0\" >Room</th>        <th class=\"col_heading level0 col1\" >wifi</th>        <th class=\"col_heading level0 col2\" >Price_in_MYR</th>    </tr></thead><tbody>\n",
       "                <tr>\n",
       "                        <th id=\"T_21b96ac8_1f96_11ec_ad98_d8c0a658e5falevel0_row0\" class=\"row_heading level0 row0\" >214</th>\n",
       "                        <td id=\"T_21b96ac8_1f96_11ec_ad98_d8c0a658e5farow0_col0\" class=\"data row0 col0\" >Farm stay</td>\n",
       "                        <td id=\"T_21b96ac8_1f96_11ec_ad98_d8c0a658e5farow0_col1\" class=\"data row0 col1\" >False</td>\n",
       "                        <td id=\"T_21b96ac8_1f96_11ec_ad98_d8c0a658e5farow0_col2\" class=\"data row0 col2\" >1849.500000</td>\n",
       "            </tr>\n",
       "            <tr>\n",
       "                        <th id=\"T_21b96ac8_1f96_11ec_ad98_d8c0a658e5falevel0_row1\" class=\"row_heading level0 row1\" >241</th>\n",
       "                        <td id=\"T_21b96ac8_1f96_11ec_ad98_d8c0a658e5farow1_col0\" class=\"data row1 col0\" >Entire villa</td>\n",
       "                        <td id=\"T_21b96ac8_1f96_11ec_ad98_d8c0a658e5farow1_col1\" class=\"data row1 col1\" >False</td>\n",
       "                        <td id=\"T_21b96ac8_1f96_11ec_ad98_d8c0a658e5farow1_col2\" class=\"data row1 col2\" >1426.500000</td>\n",
       "            </tr>\n",
       "            <tr>\n",
       "                        <th id=\"T_21b96ac8_1f96_11ec_ad98_d8c0a658e5falevel0_row2\" class=\"row_heading level0 row2\" >139</th>\n",
       "                        <td id=\"T_21b96ac8_1f96_11ec_ad98_d8c0a658e5farow2_col0\" class=\"data row2 col0\" >Entire villa</td>\n",
       "                        <td id=\"T_21b96ac8_1f96_11ec_ad98_d8c0a658e5farow2_col1\" class=\"data row2 col1\" >False</td>\n",
       "                        <td id=\"T_21b96ac8_1f96_11ec_ad98_d8c0a658e5farow2_col2\" class=\"data row2 col2\" >1255.500000</td>\n",
       "            </tr>\n",
       "            <tr>\n",
       "                        <th id=\"T_21b96ac8_1f96_11ec_ad98_d8c0a658e5falevel0_row3\" class=\"row_heading level0 row3\" >189</th>\n",
       "                        <td id=\"T_21b96ac8_1f96_11ec_ad98_d8c0a658e5farow3_col0\" class=\"data row3 col0\" >Entire villa</td>\n",
       "                        <td id=\"T_21b96ac8_1f96_11ec_ad98_d8c0a658e5farow3_col1\" class=\"data row3 col1\" >False</td>\n",
       "                        <td id=\"T_21b96ac8_1f96_11ec_ad98_d8c0a658e5farow3_col2\" class=\"data row3 col2\" >990.000000</td>\n",
       "            </tr>\n",
       "            <tr>\n",
       "                        <th id=\"T_21b96ac8_1f96_11ec_ad98_d8c0a658e5falevel0_row4\" class=\"row_heading level0 row4\" >271</th>\n",
       "                        <td id=\"T_21b96ac8_1f96_11ec_ad98_d8c0a658e5farow4_col0\" class=\"data row4 col0\" >Entire cottage</td>\n",
       "                        <td id=\"T_21b96ac8_1f96_11ec_ad98_d8c0a658e5farow4_col1\" class=\"data row4 col1\" >False</td>\n",
       "                        <td id=\"T_21b96ac8_1f96_11ec_ad98_d8c0a658e5farow4_col2\" class=\"data row4 col2\" >886.500000</td>\n",
       "            </tr>\n",
       "            <tr>\n",
       "                        <th id=\"T_21b96ac8_1f96_11ec_ad98_d8c0a658e5falevel0_row5\" class=\"row_heading level0 row5\" >151</th>\n",
       "                        <td id=\"T_21b96ac8_1f96_11ec_ad98_d8c0a658e5farow5_col0\" class=\"data row5 col0\" >Entire villa</td>\n",
       "                        <td id=\"T_21b96ac8_1f96_11ec_ad98_d8c0a658e5farow5_col1\" class=\"data row5 col1\" >False</td>\n",
       "                        <td id=\"T_21b96ac8_1f96_11ec_ad98_d8c0a658e5farow5_col2\" class=\"data row5 col2\" >787.500000</td>\n",
       "            </tr>\n",
       "            <tr>\n",
       "                        <th id=\"T_21b96ac8_1f96_11ec_ad98_d8c0a658e5falevel0_row6\" class=\"row_heading level0 row6\" >208</th>\n",
       "                        <td id=\"T_21b96ac8_1f96_11ec_ad98_d8c0a658e5farow6_col0\" class=\"data row6 col0\" >Entire residential home</td>\n",
       "                        <td id=\"T_21b96ac8_1f96_11ec_ad98_d8c0a658e5farow6_col1\" class=\"data row6 col1\" >False</td>\n",
       "                        <td id=\"T_21b96ac8_1f96_11ec_ad98_d8c0a658e5farow6_col2\" class=\"data row6 col2\" >535.500000</td>\n",
       "            </tr>\n",
       "            <tr>\n",
       "                        <th id=\"T_21b96ac8_1f96_11ec_ad98_d8c0a658e5falevel0_row7\" class=\"row_heading level0 row7\" >219</th>\n",
       "                        <td id=\"T_21b96ac8_1f96_11ec_ad98_d8c0a658e5farow7_col0\" class=\"data row7 col0\" >Entire residential home</td>\n",
       "                        <td id=\"T_21b96ac8_1f96_11ec_ad98_d8c0a658e5farow7_col1\" class=\"data row7 col1\" >False</td>\n",
       "                        <td id=\"T_21b96ac8_1f96_11ec_ad98_d8c0a658e5farow7_col2\" class=\"data row7 col2\" >216.000000</td>\n",
       "            </tr>\n",
       "            <tr>\n",
       "                        <th id=\"T_21b96ac8_1f96_11ec_ad98_d8c0a658e5falevel0_row8\" class=\"row_heading level0 row8\" >270</th>\n",
       "                        <td id=\"T_21b96ac8_1f96_11ec_ad98_d8c0a658e5farow8_col0\" class=\"data row8 col0\" >Entire serviced apartment</td>\n",
       "                        <td id=\"T_21b96ac8_1f96_11ec_ad98_d8c0a658e5farow8_col1\" class=\"data row8 col1\" >False</td>\n",
       "                        <td id=\"T_21b96ac8_1f96_11ec_ad98_d8c0a658e5farow8_col2\" class=\"data row8 col2\" >171.000000</td>\n",
       "            </tr>\n",
       "            <tr>\n",
       "                        <th id=\"T_21b96ac8_1f96_11ec_ad98_d8c0a658e5falevel0_row9\" class=\"row_heading level0 row9\" >5</th>\n",
       "                        <td id=\"T_21b96ac8_1f96_11ec_ad98_d8c0a658e5farow9_col0\" class=\"data row9 col0\" >Entire serviced apartment</td>\n",
       "                        <td id=\"T_21b96ac8_1f96_11ec_ad98_d8c0a658e5farow9_col1\" class=\"data row9 col1\" >False</td>\n",
       "                        <td id=\"T_21b96ac8_1f96_11ec_ad98_d8c0a658e5farow9_col2\" class=\"data row9 col2\" >85.500000</td>\n",
       "            </tr>\n",
       "            <tr>\n",
       "                        <th id=\"T_21b96ac8_1f96_11ec_ad98_d8c0a658e5falevel0_row10\" class=\"row_heading level0 row10\" >156</th>\n",
       "                        <td id=\"T_21b96ac8_1f96_11ec_ad98_d8c0a658e5farow10_col0\" class=\"data row10 col0\" >Entire serviced apartment</td>\n",
       "                        <td id=\"T_21b96ac8_1f96_11ec_ad98_d8c0a658e5farow10_col1\" class=\"data row10 col1\" >False</td>\n",
       "                        <td id=\"T_21b96ac8_1f96_11ec_ad98_d8c0a658e5farow10_col2\" class=\"data row10 col2\" >85.500000</td>\n",
       "            </tr>\n",
       "            <tr>\n",
       "                        <th id=\"T_21b96ac8_1f96_11ec_ad98_d8c0a658e5falevel0_row11\" class=\"row_heading level0 row11\" >162</th>\n",
       "                        <td id=\"T_21b96ac8_1f96_11ec_ad98_d8c0a658e5farow11_col0\" class=\"data row11 col0\" >Entire loft</td>\n",
       "                        <td id=\"T_21b96ac8_1f96_11ec_ad98_d8c0a658e5farow11_col1\" class=\"data row11 col1\" >False</td>\n",
       "                        <td id=\"T_21b96ac8_1f96_11ec_ad98_d8c0a658e5farow11_col2\" class=\"data row11 col2\" >54.000000</td>\n",
       "            </tr>\n",
       "    </tbody></table>"
      ],
      "text/plain": [
       "<pandas.io.formats.style.Styler at 0x293545de820>"
      ]
     },
     "execution_count": 26,
     "metadata": {},
     "output_type": "execute_result"
    }
   ],
   "source": [
    "table_wifi = data[data.wifi == False][['Room', 'wifi', 'Price_in_MYR']].sort_values(by='Price_in_MYR', ascending=False)\n",
    "table_wifi.style.set_table_attributes(\"style='display:inline'\").set_caption('Table for room do not have wifi')"
   ]
  },
  {
   "cell_type": "markdown",
   "metadata": {},
   "source": [
    "- Suprise to see room with no wifi has highest price compare to has wifi. However, from data show, most of the cheap room types provide wifi, with only few room types (especially expansive room type (Entira villa, Farm stay)) did not provide wifi, causing wider distribution and higher mean and median.  "
   ]
  },
  {
   "cell_type": "markdown",
   "metadata": {},
   "source": [
    "#### air-cond vs price <a id=\"4\"></a>"
   ]
  },
  {
   "cell_type": "code",
   "execution_count": 27,
   "metadata": {},
   "outputs": [
    {
     "name": "stdout",
     "output_type": "stream",
     "text": [
      "% in dataset having air-cond: 98.9010989010989%\n"
     ]
    }
   ],
   "source": [
    "print(f'% in dataset having air-cond: {data.Air_cond.sum() / len(data) *100}%')"
   ]
  },
  {
   "cell_type": "code",
   "execution_count": 28,
   "metadata": {},
   "outputs": [
    {
     "data": {
      "text/html": [
       "<style  type=\"text/css\" >\n",
       "</style><table id=\"T_21be73fa_1f96_11ec_8be3_d8c0a658e5fa\" style='display:inline'><caption>Room which do not have air-cond</caption><thead>    <tr>        <th class=\"blank level0\" ></th>        <th class=\"col_heading level0 col0\" >Location</th>        <th class=\"col_heading level0 col1\" >Room</th>        <th class=\"col_heading level0 col2\" >Air_cond</th>        <th class=\"col_heading level0 col3\" >Price_in_MYR</th>    </tr></thead><tbody>\n",
       "                <tr>\n",
       "                        <th id=\"T_21be73fa_1f96_11ec_8be3_d8c0a658e5falevel0_row0\" class=\"row_heading level0 row0\" >214</th>\n",
       "                        <td id=\"T_21be73fa_1f96_11ec_8be3_d8c0a658e5farow0_col0\" class=\"data row0 col0\" >Hulu Langat</td>\n",
       "                        <td id=\"T_21be73fa_1f96_11ec_8be3_d8c0a658e5farow0_col1\" class=\"data row0 col1\" >Farm stay</td>\n",
       "                        <td id=\"T_21be73fa_1f96_11ec_8be3_d8c0a658e5farow0_col2\" class=\"data row0 col2\" >False</td>\n",
       "                        <td id=\"T_21be73fa_1f96_11ec_8be3_d8c0a658e5farow0_col3\" class=\"data row0 col3\" >1849.500000</td>\n",
       "            </tr>\n",
       "            <tr>\n",
       "                        <th id=\"T_21be73fa_1f96_11ec_8be3_d8c0a658e5falevel0_row1\" class=\"row_heading level0 row1\" >238</th>\n",
       "                        <td id=\"T_21be73fa_1f96_11ec_8be3_d8c0a658e5farow1_col0\" class=\"data row1 col0\" >Selangor</td>\n",
       "                        <td id=\"T_21be73fa_1f96_11ec_8be3_d8c0a658e5farow1_col1\" class=\"data row1 col1\" >Entire guesthouse</td>\n",
       "                        <td id=\"T_21be73fa_1f96_11ec_8be3_d8c0a658e5farow1_col2\" class=\"data row1 col2\" >False</td>\n",
       "                        <td id=\"T_21be73fa_1f96_11ec_8be3_d8c0a658e5farow1_col3\" class=\"data row1 col3\" >58.500000</td>\n",
       "            </tr>\n",
       "            <tr>\n",
       "                        <th id=\"T_21be73fa_1f96_11ec_8be3_d8c0a658e5falevel0_row2\" class=\"row_heading level0 row2\" >271</th>\n",
       "                        <td id=\"T_21be73fa_1f96_11ec_8be3_d8c0a658e5farow2_col0\" class=\"data row2 col0\" >Lenggeng</td>\n",
       "                        <td id=\"T_21be73fa_1f96_11ec_8be3_d8c0a658e5farow2_col1\" class=\"data row2 col1\" >Entire cottage</td>\n",
       "                        <td id=\"T_21be73fa_1f96_11ec_8be3_d8c0a658e5farow2_col2\" class=\"data row2 col2\" >False</td>\n",
       "                        <td id=\"T_21be73fa_1f96_11ec_8be3_d8c0a658e5farow2_col3\" class=\"data row2 col3\" >886.500000</td>\n",
       "            </tr>\n",
       "    </tbody></table>"
      ],
      "text/plain": [
       "<pandas.io.formats.style.Styler at 0x29354d7fdc0>"
      ]
     },
     "execution_count": 28,
     "metadata": {},
     "output_type": "execute_result"
    }
   ],
   "source": [
    "room_no_ac = data[data.Air_cond == False][['Location', 'Room', 'Air_cond', 'Price_in_MYR']]\n",
    "room_no_ac.style.set_table_attributes(\"style='display:inline'\").set_caption('Room which do not have air-cond')"
   ]
  },
  {
   "cell_type": "code",
   "execution_count": 29,
   "metadata": {},
   "outputs": [
    {
     "data": {
      "text/html": [
       "<style  type=\"text/css\" >\n",
       "</style><table id=\"T_21c0e50a_1f96_11ec_b61d_d8c0a658e5fa\" style='display:inline'><caption>Table for room do not have Air-cond</caption><thead>    <tr>        <th class=\"blank level0\" ></th>        <th class=\"col_heading level0 col0\" >Price_in_MYR</th>    </tr>    <tr>        <th class=\"index_name level0\" >Air_cond</th>        <th class=\"blank\" ></th>    </tr></thead><tbody>\n",
       "                <tr>\n",
       "                        <th id=\"T_21c0e50a_1f96_11ec_b61d_d8c0a658e5falevel0_row0\" class=\"row_heading level0 row0\" >False</th>\n",
       "                        <td id=\"T_21c0e50a_1f96_11ec_b61d_d8c0a658e5farow0_col0\" class=\"data row0 col0\" >931.500000</td>\n",
       "            </tr>\n",
       "            <tr>\n",
       "                        <th id=\"T_21c0e50a_1f96_11ec_b61d_d8c0a658e5falevel0_row1\" class=\"row_heading level0 row1\" >True</th>\n",
       "                        <td id=\"T_21c0e50a_1f96_11ec_b61d_d8c0a658e5farow1_col0\" class=\"data row1 col0\" >174.616667</td>\n",
       "            </tr>\n",
       "    </tbody></table>"
      ],
      "text/plain": [
       "<pandas.io.formats.style.Styler at 0x29354d7f280>"
      ]
     },
     "execution_count": 29,
     "metadata": {},
     "output_type": "execute_result"
    }
   ],
   "source": [
    "table_ac = data.groupby('Air_cond').agg({'Price_in_MYR':'mean'})\n",
    "table_ac.style.set_table_attributes(\"style='display:inline'\").set_caption('Table for room do not have Air-cond')"
   ]
  },
  {
   "cell_type": "markdown",
   "metadata": {},
   "source": [
    "- Most of the room provided air-conditioning facilities (up to 99%). Again, most expansive room type (Farm stay) will shift the entire distribution to higher price."
   ]
  },
  {
   "cell_type": "markdown",
   "metadata": {},
   "source": [
    "#### kitchen vs price <a id=\"5\"></a>"
   ]
  },
  {
   "cell_type": "code",
   "execution_count": 30,
   "metadata": {},
   "outputs": [
    {
     "data": {
      "text/html": [
       "<div>\n",
       "<style scoped>\n",
       "    .dataframe tbody tr th:only-of-type {\n",
       "        vertical-align: middle;\n",
       "    }\n",
       "\n",
       "    .dataframe tbody tr th {\n",
       "        vertical-align: top;\n",
       "    }\n",
       "\n",
       "    .dataframe thead tr th {\n",
       "        text-align: left;\n",
       "    }\n",
       "\n",
       "    .dataframe thead tr:last-of-type th {\n",
       "        text-align: right;\n",
       "    }\n",
       "</style>\n",
       "<table border=\"1\" class=\"dataframe\">\n",
       "  <thead>\n",
       "    <tr>\n",
       "      <th></th>\n",
       "      <th colspan=\"4\" halign=\"left\">Price_in_MYR</th>\n",
       "    </tr>\n",
       "    <tr>\n",
       "      <th></th>\n",
       "      <th>mean</th>\n",
       "      <th>median</th>\n",
       "      <th>max</th>\n",
       "      <th>count</th>\n",
       "    </tr>\n",
       "    <tr>\n",
       "      <th>Kitchen</th>\n",
       "      <th></th>\n",
       "      <th></th>\n",
       "      <th></th>\n",
       "      <th></th>\n",
       "    </tr>\n",
       "  </thead>\n",
       "  <tbody>\n",
       "    <tr>\n",
       "      <th>False</th>\n",
       "      <td>87.333333</td>\n",
       "      <td>85.5</td>\n",
       "      <td>171.0</td>\n",
       "      <td>27</td>\n",
       "    </tr>\n",
       "    <tr>\n",
       "      <th>True</th>\n",
       "      <td>193.426829</td>\n",
       "      <td>117.0</td>\n",
       "      <td>2826.0</td>\n",
       "      <td>246</td>\n",
       "    </tr>\n",
       "  </tbody>\n",
       "</table>\n",
       "</div>"
      ],
      "text/plain": [
       "        Price_in_MYR                     \n",
       "                mean median     max count\n",
       "Kitchen                                  \n",
       "False      87.333333   85.5   171.0    27\n",
       "True      193.426829  117.0  2826.0   246"
      ]
     },
     "execution_count": 30,
     "metadata": {},
     "output_type": "execute_result"
    }
   ],
   "source": [
    "data.groupby('Kitchen').agg(['mean', 'median', 'max', 'count'])[['Price_in_MYR']]"
   ]
  },
  {
   "cell_type": "code",
   "execution_count": 31,
   "metadata": {},
   "outputs": [
    {
     "name": "stderr",
     "output_type": "stream",
     "text": [
      "C:\\Users\\Asus\\anaconda3\\lib\\site-packages\\seaborn\\_decorators.py:36: FutureWarning: Pass the following variable as a keyword arg: x. From version 0.12, the only valid positional argument will be `data`, and passing other arguments without an explicit keyword will result in an error or misinterpretation.\n",
      "  warnings.warn(\n",
      "C:\\Users\\Asus\\anaconda3\\lib\\site-packages\\seaborn\\_decorators.py:36: FutureWarning: Pass the following variable as a keyword arg: x. From version 0.12, the only valid positional argument will be `data`, and passing other arguments without an explicit keyword will result in an error or misinterpretation.\n",
      "  warnings.warn(\n"
     ]
    },
    {
     "data": {
      "text/plain": [
       "Text(0.5, 1.0, 'No kitchen provided')"
      ]
     },
     "execution_count": 31,
     "metadata": {},
     "output_type": "execute_result"
    },
    {
     "data": {
      "image/png": "[encoded data removed]",
      "text/plain": [
       "<Figure size 1080x576 with 2 Axes>"
      ]
     },
     "metadata": {},
     "output_type": "display_data"
    }
   ],
   "source": [
    "fig, ax = plt.subplots(2, 1, figsize=(15, 8), sharex=True)\n",
    "fig.suptitle('Price distribution plot with Kitchen availability', fontsize=20)\n",
    "plt.style.use('seaborn')\n",
    "\n",
    "sns.boxplot(data[df.Kitchen==True].Price_in_MYR, ax=ax[0])\n",
    "sns.boxplot(data[df.Kitchen==False].Price_in_MYR, ax=ax[1])\n",
    "ax[0].set_title('Kitchen provided')\n",
    "ax[1].set_title('No kitchen provided')"
   ]
  },
  {
   "cell_type": "code",
   "execution_count": 32,
   "metadata": {},
   "outputs": [
    {
     "data": {
      "image/png": "[encoded data removed]",
      "text/plain": [
       "<Figure size 576x396 with 1 Axes>"
      ]
     },
     "metadata": {},
     "output_type": "display_data"
    }
   ],
   "source": [
    "room_with_no_kitchen = data[data.Kitchen==False].groupby('Room').Location.count()\n",
    "\n",
    "plt.pie(data=room_with_no_kitchen, labels=room_with_no_kitchen.index, x=room_with_no_kitchen.values, autopct='%d%%')\n",
    "plt.title('% of Room type with no kitchen provided')\n",
    "plt.show()"
   ]
  },
  {
   "cell_type": "markdown",
   "metadata": {},
   "source": [
    "- The room type with no kitchen provided are all the room type with RM120 (median price) per night and below, in other word, room with kitchen genarally higher price than room with no kitchen."
   ]
  },
  {
   "cell_type": "markdown",
   "metadata": {},
   "source": [
    "#### self-check in vs price <a id=\"6\"></a>"
   ]
  },
  {
   "cell_type": "code",
   "execution_count": 33,
   "metadata": {},
   "outputs": [
    {
     "data": {
      "text/html": [
       "<div>\n",
       "<style scoped>\n",
       "    .dataframe tbody tr th:only-of-type {\n",
       "        vertical-align: middle;\n",
       "    }\n",
       "\n",
       "    .dataframe tbody tr th {\n",
       "        vertical-align: top;\n",
       "    }\n",
       "\n",
       "    .dataframe thead tr th {\n",
       "        text-align: left;\n",
       "    }\n",
       "\n",
       "    .dataframe thead tr:last-of-type th {\n",
       "        text-align: right;\n",
       "    }\n",
       "</style>\n",
       "<table border=\"1\" class=\"dataframe\">\n",
       "  <thead>\n",
       "    <tr>\n",
       "      <th></th>\n",
       "      <th colspan=\"5\" halign=\"left\">Price_in_MYR</th>\n",
       "    </tr>\n",
       "    <tr>\n",
       "      <th></th>\n",
       "      <th>mean</th>\n",
       "      <th>median</th>\n",
       "      <th>max</th>\n",
       "      <th>min</th>\n",
       "      <th>count</th>\n",
       "    </tr>\n",
       "    <tr>\n",
       "      <th>Self_check_in</th>\n",
       "      <th></th>\n",
       "      <th></th>\n",
       "      <th></th>\n",
       "      <th></th>\n",
       "      <th></th>\n",
       "    </tr>\n",
       "  </thead>\n",
       "  <tbody>\n",
       "    <tr>\n",
       "      <th>False</th>\n",
       "      <td>232.262658</td>\n",
       "      <td>117.0</td>\n",
       "      <td>2826.0</td>\n",
       "      <td>45.0</td>\n",
       "      <td>158</td>\n",
       "    </tr>\n",
       "    <tr>\n",
       "      <th>True</th>\n",
       "      <td>115.160870</td>\n",
       "      <td>108.0</td>\n",
       "      <td>220.5</td>\n",
       "      <td>45.0</td>\n",
       "      <td>115</td>\n",
       "    </tr>\n",
       "  </tbody>\n",
       "</table>\n",
       "</div>"
      ],
      "text/plain": [
       "              Price_in_MYR                           \n",
       "                      mean median     max   min count\n",
       "Self_check_in                                        \n",
       "False           232.262658  117.0  2826.0  45.0   158\n",
       "True            115.160870  108.0   220.5  45.0   115"
      ]
     },
     "execution_count": 33,
     "metadata": {},
     "output_type": "execute_result"
    }
   ],
   "source": [
    "data.groupby('Self_check_in').agg(['mean', 'median', 'max', 'min', 'count'])[['Price_in_MYR']]"
   ]
  },
  {
   "cell_type": "code",
   "execution_count": 34,
   "metadata": {},
   "outputs": [
    {
     "name": "stderr",
     "output_type": "stream",
     "text": [
      "C:\\Users\\Asus\\anaconda3\\lib\\site-packages\\seaborn\\_decorators.py:36: FutureWarning: Pass the following variable as a keyword arg: x. From version 0.12, the only valid positional argument will be `data`, and passing other arguments without an explicit keyword will result in an error or misinterpretation.\n",
      "  warnings.warn(\n",
      "C:\\Users\\Asus\\anaconda3\\lib\\site-packages\\seaborn\\_decorators.py:36: FutureWarning: Pass the following variable as a keyword arg: x. From version 0.12, the only valid positional argument will be `data`, and passing other arguments without an explicit keyword will result in an error or misinterpretation.\n",
      "  warnings.warn(\n"
     ]
    },
    {
     "data": {
      "text/plain": [
       "Text(0.5, 1.0, 'No Self_check_in provided')"
      ]
     },
     "execution_count": 34,
     "metadata": {},
     "output_type": "execute_result"
    },
    {
     "data": {
      "image/png": "[encoded data removed]",
      "text/plain": [
       "<Figure size 1080x576 with 2 Axes>"
      ]
     },
     "metadata": {},
     "output_type": "display_data"
    }
   ],
   "source": [
    "fig, ax = plt.subplots(2, 1, figsize=(15, 8), sharex=True)\n",
    "fig.suptitle('Price distribution plot with Self-check in availability', fontsize=20)\n",
    "plt.style.use('seaborn')\n",
    "\n",
    "sns.boxplot(data[df.Self_check_in==True].Price_in_MYR, ax=ax[0])\n",
    "sns.boxplot(data[df.Self_check_in==False].Price_in_MYR, ax=ax[1])\n",
    "ax[0].set_title('Self_check_in provided')\n",
    "ax[1].set_title('No Self_check_in provided')"
   ]
  },
  {
   "cell_type": "code",
   "execution_count": 35,
   "metadata": {},
   "outputs": [
    {
     "data": {
      "text/html": [
       "<div>\n",
       "<style scoped>\n",
       "    .dataframe tbody tr th:only-of-type {\n",
       "        vertical-align: middle;\n",
       "    }\n",
       "\n",
       "    .dataframe tbody tr th {\n",
       "        vertical-align: top;\n",
       "    }\n",
       "\n",
       "    .dataframe thead th {\n",
       "        text-align: right;\n",
       "    }\n",
       "</style>\n",
       "<table border=\"1\" class=\"dataframe\">\n",
       "  <thead>\n",
       "    <tr style=\"text-align: right;\">\n",
       "      <th></th>\n",
       "      <th>Room</th>\n",
       "      <th>Price_in_MYR</th>\n",
       "    </tr>\n",
       "  </thead>\n",
       "  <tbody>\n",
       "    <tr>\n",
       "      <th>168</th>\n",
       "      <td>Entire villa</td>\n",
       "      <td>2826.0</td>\n",
       "    </tr>\n",
       "    <tr>\n",
       "      <th>262</th>\n",
       "      <td>Entire residential home</td>\n",
       "      <td>1872.0</td>\n",
       "    </tr>\n",
       "    <tr>\n",
       "      <th>214</th>\n",
       "      <td>Farm stay</td>\n",
       "      <td>1849.5</td>\n",
       "    </tr>\n",
       "    <tr>\n",
       "      <th>241</th>\n",
       "      <td>Entire villa</td>\n",
       "      <td>1426.5</td>\n",
       "    </tr>\n",
       "    <tr>\n",
       "      <th>139</th>\n",
       "      <td>Entire villa</td>\n",
       "      <td>1255.5</td>\n",
       "    </tr>\n",
       "  </tbody>\n",
       "</table>\n",
       "</div>"
      ],
      "text/plain": [
       "                        Room  Price_in_MYR\n",
       "168             Entire villa        2826.0\n",
       "262  Entire residential home        1872.0\n",
       "214                Farm stay        1849.5\n",
       "241             Entire villa        1426.5\n",
       "139             Entire villa        1255.5"
      ]
     },
     "execution_count": 35,
     "metadata": {},
     "output_type": "execute_result"
    }
   ],
   "source": [
    "data[data.Self_check_in == False][['Room', 'Price_in_MYR']].sort_values(by='Price_in_MYR', ascending=False).iloc[:5]"
   ]
  },
  {
   "cell_type": "markdown",
   "metadata": {},
   "source": [
    " -  Most expansive room does not provide self check in. As looking from distribution plot above, the median for both are quite similar."
   ]
  },
  {
   "cell_type": "code",
   "execution_count": 185,
   "metadata": {},
   "outputs": [
    {
     "data": {
      "text/plain": [
       "Text(0.5, 1.0, 'Correlation graph')"
      ]
     },
     "execution_count": 185,
     "metadata": {},
     "output_type": "execute_result"
    },
    {
     "data": {
      "image/png": "[encoded data removed]",
      "text/plain": [
       "<Figure size 576x396 with 2 Axes>"
      ]
     },
     "metadata": {},
     "output_type": "display_data"
    }
   ],
   "source": [
    "sns.heatmap(data.corr(), annot=True)\n",
    "plt.title('Correlation graph')"
   ]
  },
  {
   "cell_type": "markdown",
   "metadata": {},
   "source": [
    "- This correlation graph has prove my finding is correct as wifi, air-cond and self-check in did not bring significant impact to price but kitchen. "
   ]
  },
  {
   "cell_type": "markdown",
   "metadata": {},
   "source": [
    "<a id=\"8\"></a>\n",
    "### 3. Bed type, Number of bed and price relationship\n",
    "[back to top](#0)"
   ]
  },
  {
   "cell_type": "code",
   "execution_count": 187,
   "metadata": {},
   "outputs": [
    {
     "name": "stdout",
     "output_type": "stream",
     "text": [
      "Relatioship of Bed type and number of bed\n"
     ]
    },
    {
     "data": {
      "text/html": [
       "<div>\n",
       "<style scoped>\n",
       "    .dataframe tbody tr th:only-of-type {\n",
       "        vertical-align: middle;\n",
       "    }\n",
       "\n",
       "    .dataframe tbody tr th {\n",
       "        vertical-align: top;\n",
       "    }\n",
       "\n",
       "    .dataframe thead th {\n",
       "        text-align: right;\n",
       "    }\n",
       "</style>\n",
       "<table border=\"1\" class=\"dataframe\">\n",
       "  <thead>\n",
       "    <tr style=\"text-align: right;\">\n",
       "      <th></th>\n",
       "      <th>median</th>\n",
       "      <th>max</th>\n",
       "      <th>min</th>\n",
       "      <th>count</th>\n",
       "    </tr>\n",
       "    <tr>\n",
       "      <th>bed_type</th>\n",
       "      <th></th>\n",
       "      <th></th>\n",
       "      <th></th>\n",
       "      <th></th>\n",
       "    </tr>\n",
       "  </thead>\n",
       "  <tbody>\n",
       "    <tr>\n",
       "      <th>6 bedrooms</th>\n",
       "      <td>15.0</td>\n",
       "      <td>18.0</td>\n",
       "      <td>12.0</td>\n",
       "      <td>2</td>\n",
       "    </tr>\n",
       "    <tr>\n",
       "      <th>8 bedrooms</th>\n",
       "      <td>12.0</td>\n",
       "      <td>12.0</td>\n",
       "      <td>12.0</td>\n",
       "      <td>1</td>\n",
       "    </tr>\n",
       "    <tr>\n",
       "      <th>5 bedrooms</th>\n",
       "      <td>10.0</td>\n",
       "      <td>12.0</td>\n",
       "      <td>8.0</td>\n",
       "      <td>2</td>\n",
       "    </tr>\n",
       "    <tr>\n",
       "      <th>4 bedrooms</th>\n",
       "      <td>7.0</td>\n",
       "      <td>20.0</td>\n",
       "      <td>0.0</td>\n",
       "      <td>7</td>\n",
       "    </tr>\n",
       "    <tr>\n",
       "      <th>3 bedrooms</th>\n",
       "      <td>4.5</td>\n",
       "      <td>8.0</td>\n",
       "      <td>3.0</td>\n",
       "      <td>10</td>\n",
       "    </tr>\n",
       "    <tr>\n",
       "      <th>2 bedrooms</th>\n",
       "      <td>3.0</td>\n",
       "      <td>12.0</td>\n",
       "      <td>2.0</td>\n",
       "      <td>10</td>\n",
       "    </tr>\n",
       "    <tr>\n",
       "      <th>1 bedroom</th>\n",
       "      <td>1.0</td>\n",
       "      <td>4.0</td>\n",
       "      <td>0.0</td>\n",
       "      <td>123</td>\n",
       "    </tr>\n",
       "    <tr>\n",
       "      <th>Studio</th>\n",
       "      <td>1.0</td>\n",
       "      <td>4.0</td>\n",
       "      <td>0.0</td>\n",
       "      <td>116</td>\n",
       "    </tr>\n",
       "  </tbody>\n",
       "</table>\n",
       "</div>"
      ],
      "text/plain": [
       "             median   max   min  count\n",
       "bed_type                              \n",
       " 6 bedrooms    15.0  18.0  12.0      2\n",
       " 8 bedrooms    12.0  12.0  12.0      1\n",
       " 5 bedrooms    10.0  12.0   8.0      2\n",
       " 4 bedrooms     7.0  20.0   0.0      7\n",
       " 3 bedrooms     4.5   8.0   3.0     10\n",
       " 2 bedrooms     3.0  12.0   2.0     10\n",
       " 1 bedroom      1.0   4.0   0.0    123\n",
       " Studio         1.0   4.0   0.0    116"
      ]
     },
     "execution_count": 187,
     "metadata": {},
     "output_type": "execute_result"
    }
   ],
   "source": [
    "print('Relatioship of Bed type and number of bed')\n",
    "data.groupby('bed_type').agg(['median', 'max', 'min', 'count'])['Number_of_bed'].sort_values(by='median', ascending=False)"
   ]
  },
  {
   "cell_type": "code",
   "execution_count": 188,
   "metadata": {},
   "outputs": [
    {
     "name": "stdout",
     "output_type": "stream",
     "text": [
      "Relatioship of Bed type and number of bed (graph)\n"
     ]
    },
    {
     "data": {
      "image/png": "[encoded data removed]",
      "text/plain": [
       "<Figure size 1080x216 with 1 Axes>"
      ]
     },
     "metadata": {},
     "output_type": "display_data"
    }
   ],
   "source": [
    "bed_count = data.groupby('bed_type').agg('median')[['Number_of_bed']].reset_index()\n",
    "plt.figure(figsize=(15,3))\n",
    "sns.barplot(x=bed_count.bed_type, y=bed_count.Number_of_bed)\n",
    "print('Relatioship of Bed type and number of bed (graph)')"
   ]
  },
  {
   "cell_type": "code",
   "execution_count": 154,
   "metadata": {},
   "outputs": [
    {
     "name": "stdout",
     "output_type": "stream",
     "text": [
      "Relatioship of Bed type and price in MYR\n"
     ]
    },
    {
     "data": {
      "text/html": [
       "<div>\n",
       "<style scoped>\n",
       "    .dataframe tbody tr th:only-of-type {\n",
       "        vertical-align: middle;\n",
       "    }\n",
       "\n",
       "    .dataframe tbody tr th {\n",
       "        vertical-align: top;\n",
       "    }\n",
       "\n",
       "    .dataframe thead th {\n",
       "        text-align: right;\n",
       "    }\n",
       "</style>\n",
       "<table border=\"1\" class=\"dataframe\">\n",
       "  <thead>\n",
       "    <tr style=\"text-align: right;\">\n",
       "      <th></th>\n",
       "      <th>median</th>\n",
       "      <th>mean</th>\n",
       "      <th>max</th>\n",
       "      <th>min</th>\n",
       "      <th>count</th>\n",
       "    </tr>\n",
       "    <tr>\n",
       "      <th>bed_type</th>\n",
       "      <th></th>\n",
       "      <th></th>\n",
       "      <th></th>\n",
       "      <th></th>\n",
       "      <th></th>\n",
       "    </tr>\n",
       "  </thead>\n",
       "  <tbody>\n",
       "    <tr>\n",
       "      <th>8 bedrooms</th>\n",
       "      <td>2826.00</td>\n",
       "      <td>2826.000000</td>\n",
       "      <td>2826.0</td>\n",
       "      <td>2826.0</td>\n",
       "      <td>1</td>\n",
       "    </tr>\n",
       "    <tr>\n",
       "      <th>6 bedrooms</th>\n",
       "      <td>1102.50</td>\n",
       "      <td>1102.500000</td>\n",
       "      <td>1872.0</td>\n",
       "      <td>333.0</td>\n",
       "      <td>2</td>\n",
       "    </tr>\n",
       "    <tr>\n",
       "      <th>5 bedrooms</th>\n",
       "      <td>1077.75</td>\n",
       "      <td>1077.750000</td>\n",
       "      <td>1147.5</td>\n",
       "      <td>1008.0</td>\n",
       "      <td>2</td>\n",
       "    </tr>\n",
       "    <tr>\n",
       "      <th>4 bedrooms</th>\n",
       "      <td>535.50</td>\n",
       "      <td>678.857143</td>\n",
       "      <td>1152.0</td>\n",
       "      <td>216.0</td>\n",
       "      <td>7</td>\n",
       "    </tr>\n",
       "    <tr>\n",
       "      <th>3 bedrooms</th>\n",
       "      <td>243.00</td>\n",
       "      <td>373.050000</td>\n",
       "      <td>1255.5</td>\n",
       "      <td>49.5</td>\n",
       "      <td>10</td>\n",
       "    </tr>\n",
       "    <tr>\n",
       "      <th>2 bedrooms</th>\n",
       "      <td>227.25</td>\n",
       "      <td>521.100000</td>\n",
       "      <td>1426.5</td>\n",
       "      <td>139.5</td>\n",
       "      <td>10</td>\n",
       "    </tr>\n",
       "    <tr>\n",
       "      <th>1 bedroom</th>\n",
       "      <td>112.50</td>\n",
       "      <td>116.820000</td>\n",
       "      <td>297.0</td>\n",
       "      <td>45.0</td>\n",
       "      <td>125</td>\n",
       "    </tr>\n",
       "    <tr>\n",
       "      <th>Studio</th>\n",
       "      <td>103.50</td>\n",
       "      <td>124.642241</td>\n",
       "      <td>1849.5</td>\n",
       "      <td>54.0</td>\n",
       "      <td>116</td>\n",
       "    </tr>\n",
       "  </tbody>\n",
       "</table>\n",
       "</div>"
      ],
      "text/plain": [
       "              median         mean     max     min  count\n",
       "bed_type                                                \n",
       " 8 bedrooms  2826.00  2826.000000  2826.0  2826.0      1\n",
       " 6 bedrooms  1102.50  1102.500000  1872.0   333.0      2\n",
       " 5 bedrooms  1077.75  1077.750000  1147.5  1008.0      2\n",
       " 4 bedrooms   535.50   678.857143  1152.0   216.0      7\n",
       " 3 bedrooms   243.00   373.050000  1255.5    49.5     10\n",
       " 2 bedrooms   227.25   521.100000  1426.5   139.5     10\n",
       " 1 bedroom    112.50   116.820000   297.0    45.0    125\n",
       " Studio       103.50   124.642241  1849.5    54.0    116"
      ]
     },
     "execution_count": 154,
     "metadata": {},
     "output_type": "execute_result"
    }
   ],
   "source": [
    " print('Relatioship of Bed type and price in MYR')\n",
    "data.groupby('bed_type').agg(['median', 'mean', 'max', 'min', 'count'])['Price_in_MYR'].sort_values(by='median', ascending=False)"
   ]
  },
  {
   "cell_type": "code",
   "execution_count": 184,
   "metadata": {},
   "outputs": [
    {
     "name": "stdout",
     "output_type": "stream",
     "text": [
      "Relatioship of Bed type and price in MYR (graph)\n"
     ]
    },
    {
     "data": {
      "image/png": "[encoded data removed]",
      "text/plain": [
       "<Figure size 1080x216 with 1 Axes>"
      ]
     },
     "metadata": {},
     "output_type": "display_data"
    }
   ],
   "source": [
    "bed_price = data.groupby('bed_type').agg('median')[['Price_in_MYR']].sort_values(by='Price_in_MYR', ascending=False).reset_index()\n",
    "plt.figure(figsize=(15, 3))\n",
    "sns.barplot(x=bed_price.bed_type, y=bed_price.Price_in_MYR)\n",
    "print('Relatioship of Bed type and price in MYR (graph)')"
   ]
  },
  {
   "cell_type": "code",
   "execution_count": 229,
   "metadata": {},
   "outputs": [
    {
     "name": "stderr",
     "output_type": "stream",
     "text": [
      "C:\\Users\\Asus\\anaconda3\\lib\\site-packages\\seaborn\\categorical.py:1296: UserWarning: 36.0% of the points cannot be placed; you may want to decrease the size of the markers or use stripplot.\n",
      "  warnings.warn(msg, UserWarning)\n",
      "C:\\Users\\Asus\\anaconda3\\lib\\site-packages\\seaborn\\categorical.py:1296: UserWarning: 48.3% of the points cannot be placed; you may want to decrease the size of the markers or use stripplot.\n",
      "  warnings.warn(msg, UserWarning)\n"
     ]
    },
    {
     "name": "stdout",
     "output_type": "stream",
     "text": [
      "Swarm plot for bed type and price\n"
     ]
    },
    {
     "data": {
      "image/png": "[encoded data removed]",
      "text/plain": [
       "<Figure size 1152x576 with 1 Axes>"
      ]
     },
     "metadata": {},
     "output_type": "display_data"
    }
   ],
   "source": [
    "plt.figure(figsize=(16, 8))\n",
    "sns.swarmplot(x=data.bed_type.sort_values(), y=data.Price_in_MYR)\n",
    "print('Swarm plot for bed type and price')"
   ]
  },
  {
   "cell_type": "markdown",
   "metadata": {},
   "source": [
    "- Strong correlation between bed type (directly proportional relationship with number of bed) and room price.\n",
    "- The room price for 1 bedroom type and studio are more consistence"
   ]
  },
  {
   "cell_type": "markdown",
   "metadata": {},
   "source": [
    "<a id=\"9\"></a>\n",
    "### 4. Did number of bath bring impact to the price ?\n",
    "[back to top](#0)"
   ]
  },
  {
   "cell_type": "code",
   "execution_count": 230,
   "metadata": {},
   "outputs": [
    {
     "name": "stdout",
     "output_type": "stream",
     "text": [
      "Swarm plot for Number of bath and price\n"
     ]
    },
    {
     "name": "stderr",
     "output_type": "stream",
     "text": [
      "C:\\Users\\Asus\\anaconda3\\lib\\site-packages\\seaborn\\categorical.py:1296: UserWarning: 75.0% of the points cannot be placed; you may want to decrease the size of the markers or use stripplot.\n",
      "  warnings.warn(msg, UserWarning)\n"
     ]
    },
    {
     "data": {
      "image/png": "[encoded data removed]",
      "text/plain": [
       "<Figure size 1152x576 with 1 Axes>"
      ]
     },
     "metadata": {},
     "output_type": "display_data"
    }
   ],
   "source": [
    "plt.figure(figsize=(16, 8))\n",
    "sns.swarmplot(x=data.Number_of_bath.sort_values(), y=data.Price_in_MYR)\n",
    "print('Swarm plot for Number of bath and price')"
   ]
  },
  {
   "cell_type": "code",
   "execution_count": 242,
   "metadata": {},
   "outputs": [
    {
     "name": "stdout",
     "output_type": "stream",
     "text": [
      "Relatioship of Number_of_bath and price in MYR (graph)\n"
     ]
    },
    {
     "data": {
      "image/png": "[encoded data removed]",
      "text/plain": [
       "<Figure size 576x396 with 1 Axes>"
      ]
     },
     "metadata": {},
     "output_type": "display_data"
    }
   ],
   "source": [
    "bath = data.groupby('Number_of_bath').agg('median')['Price_in_MYR'].reset_index()\n",
    "sns.barplot(data=bath, x='Number_of_bath', y='Price_in_MYR')\n",
    "print('Relatioship of Number_of_bath and price in MYR (graph)')"
   ]
  },
  {
   "cell_type": "markdown",
   "metadata": {},
   "source": [
    "- Strong correlation between number of bath and room price."
   ]
  },
  {
   "cell_type": "markdown",
   "metadata": {},
   "source": [
    "<a id=\"7\"></a>\n",
    "### 5. Correlation between rating and price\n",
    "[back to top](#0)"
   ]
  },
  {
   "cell_type": "code",
   "execution_count": 39,
   "metadata": {},
   "outputs": [
    {
     "data": {
      "image/png": "[encoded data removed]",
      "text/plain": [
       "<Figure size 1080x360 with 1 Axes>"
      ]
     },
     "metadata": {},
     "output_type": "display_data"
    }
   ],
   "source": [
    "rating_price = data.groupby('Rating').agg('median')[['Price_in_MYR']]\n",
    "plt.figure(figsize=(15,5))\n",
    "sns.barplot(x=rating_price.index, y=rating_price.Price_in_MYR)\n",
    "plt.xticks(rotation='vertical')\n",
    "plt.show()"
   ]
  },
  {
   "cell_type": "markdown",
   "metadata": {},
   "source": [
    "- Rating vs price in expansive room type (price higher than RM600 per night (mean price))"
   ]
  },
  {
   "cell_type": "code",
   "execution_count": 40,
   "metadata": {},
   "outputs": [
    {
     "data": {
      "image/png": "[encoded data removed]",
      "text/plain": [
       "<Figure size 1080x360 with 1 Axes>"
      ]
     },
     "metadata": {},
     "output_type": "display_data"
    }
   ],
   "source": [
    "expensive_room_rating = data[data.Price_in_MYR > 600].groupby('Rating').agg('mean')[['Price_in_MYR']]\n",
    "plt.figure(figsize=(15,5))\n",
    "sns.barplot(x=expensive_room_rating.index, y=expensive_room_rating.Price_in_MYR)\n",
    "plt.show()"
   ]
  },
  {
   "cell_type": "markdown",
   "metadata": {},
   "source": [
    "- to be continue"
   ]
  }
 ],
 "metadata": {
  "kernelspec": {
   "display_name": "Python 3",
   "language": "python",
   "name": "python3"
  },
  "language_info": {
   "codemirror_mode": {
    "name": "ipython",
    "version": 3
   },
   "file_extension": ".py",
   "mimetype": "text/x-python",
   "name": "python",
   "nbconvert_exporter": "python",
   "pygments_lexer": "ipython3",
   "version": "3.8.5"
  }
 },
 "nbformat": 4,
 "nbformat_minor": 4
}
