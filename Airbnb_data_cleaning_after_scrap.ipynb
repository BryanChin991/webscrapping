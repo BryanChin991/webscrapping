{
 "cells": [
  {
   "cell_type": "code",
   "execution_count": 1,
   "metadata": {},
   "outputs": [],
   "source": [
    "import os\n",
    "import pandas as pd"
   ]
  },
  {
   "cell_type": "markdown",
   "metadata": {},
   "source": [
    "### Import listings files"
   ]
  },
  {
   "cell_type": "code",
   "execution_count": 2,
   "metadata": {},
   "outputs": [],
   "source": [
    "directory = '/Users/Asus/Desktop/Unity Game/python/Data_Analysis/WebScrapping/Abnb/Scraping_lists'\n",
    "\n",
    "df = pd.DataFrame()\n",
    "for file in os.listdir(directory):\n",
    "    df = df.append((pd.read_csv(os.path.join(directory, file))), ignore_index=True)"
   ]
  },
  {
   "cell_type": "markdown",
   "metadata": {},
   "source": [
    "### FIrst glance of data"
   ]
  },
  {
   "cell_type": "code",
   "execution_count": 3,
   "metadata": {},
   "outputs": [
    {
     "data": {
      "text/html": [
       "<div>\n",
       "<style scoped>\n",
       "    .dataframe tbody tr th:only-of-type {\n",
       "        vertical-align: middle;\n",
       "    }\n",
       "\n",
       "    .dataframe tbody tr th {\n",
       "        vertical-align: top;\n",
       "    }\n",
       "\n",
       "    .dataframe thead th {\n",
       "        text-align: right;\n",
       "    }\n",
       "</style>\n",
       "<table border=\"1\" class=\"dataframe\">\n",
       "  <thead>\n",
       "    <tr style=\"text-align: right;\">\n",
       "      <th></th>\n",
       "      <th>Room type</th>\n",
       "      <th>Name</th>\n",
       "      <th>Descriptions</th>\n",
       "      <th>Rating</th>\n",
       "      <th>Price</th>\n",
       "    </tr>\n",
       "  </thead>\n",
       "  <tbody>\n",
       "    <tr>\n",
       "      <th>0</th>\n",
       "      <td>Entire serviced apartment in Kuala Lumpur</td>\n",
       "      <td>LUXURY Studio with NETFLIX &amp; SKY POOL at CEYLONZ</td>\n",
       "      <td>4 guests, Studio, 1 bed, 1 bath, Wifi, Air con...</td>\n",
       "      <td>4.86</td>\n",
       "      <td>$19 per night</td>\n",
       "    </tr>\n",
       "    <tr>\n",
       "      <th>1</th>\n",
       "      <td>Entire serviced apartment in Kuala Lumpur</td>\n",
       "      <td>★Studio★KL★JLN TUN RAZAK★10min KLCC★IJN★TV Box★</td>\n",
       "      <td>2 guests, Studio, 1 bed, 1 bath, Wifi, Air con...</td>\n",
       "      <td>4.77</td>\n",
       "      <td>$26 per night</td>\n",
       "    </tr>\n",
       "    <tr>\n",
       "      <th>2</th>\n",
       "      <td>Entire rental unit in Kuala Lumpur</td>\n",
       "      <td>Staycation for Fully Vaccinated Guest. KLCC area</td>\n",
       "      <td>2 guests, 1 bedroom, 1 bed, 1 bath, Wifi, Air ...</td>\n",
       "      <td>4.95</td>\n",
       "      <td>$35 per night</td>\n",
       "    </tr>\n",
       "    <tr>\n",
       "      <th>3</th>\n",
       "      <td>Entire serviced apartment in Kuala Lumpur</td>\n",
       "      <td>350M TO KLCC,VORTEX HIGH FLOOR KLCC VIEW@BLACK...</td>\n",
       "      <td>6 guests, 3 bedrooms, 3 beds, 2 baths, Wifi, A...</td>\n",
       "      <td>NaN</td>\n",
       "      <td>$11 per night</td>\n",
       "    </tr>\n",
       "    <tr>\n",
       "      <th>4</th>\n",
       "      <td>Hotel room in Kuala Lumpur</td>\n",
       "      <td>Superior Queen Room</td>\n",
       "      <td>2 guests, 1 bedroom, 1 bed, 1 private bath, Wi...</td>\n",
       "      <td>4.51</td>\n",
       "      <td>$13 per night</td>\n",
       "    </tr>\n",
       "  </tbody>\n",
       "</table>\n",
       "</div>"
      ],
      "text/plain": [
       "                                   Room type  \\\n",
       "0  Entire serviced apartment in Kuala Lumpur   \n",
       "1  Entire serviced apartment in Kuala Lumpur   \n",
       "2         Entire rental unit in Kuala Lumpur   \n",
       "3  Entire serviced apartment in Kuala Lumpur   \n",
       "4                 Hotel room in Kuala Lumpur   \n",
       "\n",
       "                                                Name  \\\n",
       "0   LUXURY Studio with NETFLIX & SKY POOL at CEYLONZ   \n",
       "1    ★Studio★KL★JLN TUN RAZAK★10min KLCC★IJN★TV Box★   \n",
       "2   Staycation for Fully Vaccinated Guest. KLCC area   \n",
       "3  350M TO KLCC,VORTEX HIGH FLOOR KLCC VIEW@BLACK...   \n",
       "4                                Superior Queen Room   \n",
       "\n",
       "                                        Descriptions  Rating          Price  \n",
       "0  4 guests, Studio, 1 bed, 1 bath, Wifi, Air con...    4.86  $19 per night  \n",
       "1  2 guests, Studio, 1 bed, 1 bath, Wifi, Air con...    4.77  $26 per night  \n",
       "2  2 guests, 1 bedroom, 1 bed, 1 bath, Wifi, Air ...    4.95  $35 per night  \n",
       "3  6 guests, 3 bedrooms, 3 beds, 2 baths, Wifi, A...     NaN  $11 per night  \n",
       "4  2 guests, 1 bedroom, 1 bed, 1 private bath, Wi...    4.51  $13 per night  "
      ]
     },
     "execution_count": 3,
     "metadata": {},
     "output_type": "execute_result"
    }
   ],
   "source": [
    "df.head()"
   ]
  },
  {
   "cell_type": "markdown",
   "metadata": {},
   "source": [
    "### Checking null value in all columns, and drop the row"
   ]
  },
  {
   "cell_type": "code",
   "execution_count": 4,
   "metadata": {},
   "outputs": [],
   "source": [
    "# checking null row\n",
    "df[df.isnull().any(axis=1)]\n",
    "# drop null price row / drop all null values in row\n",
    "df.dropna(how='all', inplace=True)"
   ]
  },
  {
   "cell_type": "markdown",
   "metadata": {},
   "source": [
    "### Remove duplicate row"
   ]
  },
  {
   "cell_type": "code",
   "execution_count": 5,
   "metadata": {},
   "outputs": [],
   "source": [
    "# remove duplicate row\n",
    "duplicate = df[df['Name'].duplicated(keep=False)]\n",
    "df.drop_duplicates(keep='first', inplace=True)\n",
    "df = df.reset_index()"
   ]
  },
  {
   "cell_type": "markdown",
   "metadata": {},
   "source": [
    "### Checking row number and Null/ empty row"
   ]
  },
  {
   "cell_type": "code",
   "execution_count": 6,
   "metadata": {},
   "outputs": [
    {
     "name": "stdout",
     "output_type": "stream",
     "text": [
      "Length of row 202, number of null:\n",
      "index           0\n",
      "Room type       0\n",
      "Name            0\n",
      "Descriptions    0\n",
      "Rating          6\n",
      "Price           0\n",
      "dtype: int64\n"
     ]
    }
   ],
   "source": [
    "print(f'Length of row {len(df)}, number of null:\\n{df.isnull().sum()}')"
   ]
  },
  {
   "cell_type": "markdown",
   "metadata": {},
   "source": [
    "### New features -  Location\n",
    "- to identify listing area"
   ]
  },
  {
   "cell_type": "code",
   "execution_count": 7,
   "metadata": {},
   "outputs": [
    {
     "data": {
      "text/plain": [
       "Kuala Lumpur                         160\n",
       "Federal Territory of Kuala Lumpur      9\n",
       "Cheras                                 7\n",
       "Petaling Jaya                          6\n",
       "Bukit Bintang                          5\n",
       "Balakong                               3\n",
       "Kuala Kubu Baru                        3\n",
       "Seri Kembangan                         2\n",
       "Batu 9 Cheras                          2\n",
       "Kampung Baru                           1\n",
       "Hulu Langat                            1\n",
       "i-City                                 1\n",
       "Sri Hartamas                           1\n",
       "Cyberjaya                              1\n",
       "Name: Location, dtype: int64"
      ]
     },
     "execution_count": 7,
     "metadata": {},
     "output_type": "execute_result"
    }
   ],
   "source": [
    "df['Room type'] = df['Room type'].str.replace(' in ', ',')\n",
    "df['Location'] = df['Room type'].apply(lambda x: str(x).split(',')[-1])\n",
    "df['Location'] = df['Location'].str.strip()\n",
    "df.Location.value_counts()"
   ]
  },
  {
   "cell_type": "markdown",
   "metadata": {},
   "source": [
    "### New features -  Room\n",
    "- to remove location, keep only room type info"
   ]
  },
  {
   "cell_type": "code",
   "execution_count": 8,
   "metadata": {},
   "outputs": [
    {
     "data": {
      "text/plain": [
       "Entire rental unit            92\n",
       "Entire condominium (condo)    59\n",
       "Entire serviced apartment     39\n",
       "Entire villa                   4\n",
       "Entire loft                    4\n",
       "Private room                   2\n",
       "Hotel room                     2\n",
       "Name: Room, dtype: int64"
      ]
     },
     "execution_count": 8,
     "metadata": {},
     "output_type": "execute_result"
    }
   ],
   "source": [
    "df['Room'] = df['Room type'].apply(lambda x : x.split(',')[0])\n",
    "df.Room.value_counts()"
   ]
  },
  {
   "cell_type": "markdown",
   "metadata": {},
   "source": [
    "### New features - Guests\n",
    "- Number of guest"
   ]
  },
  {
   "cell_type": "code",
   "execution_count": 9,
   "metadata": {},
   "outputs": [
    {
     "data": {
      "text/plain": [
       "4     76\n",
       "2     72\n",
       "3     38\n",
       "5      6\n",
       "6      6\n",
       "7      2\n",
       "16     1\n",
       "10     1\n",
       "Name: Guests, dtype: int64"
      ]
     },
     "execution_count": 9,
     "metadata": {},
     "output_type": "execute_result"
    }
   ],
   "source": [
    "df['Guests'] = [guest.split(',')[0].split(' ')[0] if 'guests' in guest.split(',')[0] else None for guest in df.Descriptions]\n",
    "df.Guests.value_counts()"
   ]
  },
  {
   "cell_type": "markdown",
   "metadata": {},
   "source": [
    "### New features - Bed type"
   ]
  },
  {
   "cell_type": "code",
   "execution_count": 10,
   "metadata": {},
   "outputs": [
    {
     "data": {
      "text/plain": [
       " 1 bedroom     98\n",
       " Studio        96\n",
       " 2 bedrooms     4\n",
       " 3 bedrooms     3\n",
       " 8 bedrooms     1\n",
       "Name: bed_type, dtype: int64"
      ]
     },
     "execution_count": 10,
     "metadata": {},
     "output_type": "execute_result"
    }
   ],
   "source": [
    "df['bed_type'] = [type.split(',')[1] for type in df.Descriptions]\n",
    "df.bed_type.value_counts()"
   ]
  },
  {
   "cell_type": "markdown",
   "metadata": {},
   "source": [
    "### New features - Number of bed"
   ]
  },
  {
   "cell_type": "code",
   "execution_count": 11,
   "metadata": {},
   "outputs": [
    {
     "data": {
      "text/plain": [
       "1     149\n",
       "2      35\n",
       "3       5\n",
       "4       4\n",
       "0       3\n",
       "6       2\n",
       "12      1\n",
       "8       1\n",
       "Name: Number_of_bed, dtype: int64"
      ]
     },
     "execution_count": 11,
     "metadata": {},
     "output_type": "execute_result"
    }
   ],
   "source": [
    "df['Number_of_bed'] = [bed.split(',')[2].split(' ')[1] if 'bed' in bed.split(',')[2] else None for bed in df.Descriptions]\n",
    "df.Number_of_bed.value_counts()"
   ]
  },
  {
   "cell_type": "markdown",
   "metadata": {},
   "source": [
    "### New features - Number of bath"
   ]
  },
  {
   "cell_type": "code",
   "execution_count": 12,
   "metadata": {},
   "outputs": [
    {
     "data": {
      "text/plain": [
       " 1 bath            159\n",
       " 1.5 baths          24\n",
       " 2 baths             9\n",
       " 1 private bath      4\n",
       " Half-bath           2\n",
       " 7 baths             1\n",
       " 3 baths             1\n",
       "Name: Number_of_bath, dtype: int64"
      ]
     },
     "execution_count": 12,
     "metadata": {},
     "output_type": "execute_result"
    }
   ],
   "source": [
    "df['Number_of_bath'] = [bath.split(',')[3] if 'bath' in bath.split(',')[3] else None for bath in df.Descriptions]\n",
    "df.Number_of_bath.value_counts()"
   ]
  },
  {
   "cell_type": "markdown",
   "metadata": {},
   "source": [
    "### New features - Wifi, Air Cond, Kitchen, Self Check-in"
   ]
  },
  {
   "cell_type": "code",
   "execution_count": 13,
   "metadata": {},
   "outputs": [],
   "source": [
    "df['wifi'] = [True if 'Wifi' in wifi else False for wifi in df.Descriptions]\n",
    "df['Air_cond'] = [True if 'Air conditioning' in ac else False for ac in df.Descriptions]\n",
    "df['Kitchen'] = [True if 'Kitchen' in Kitchen else False for Kitchen in df.Descriptions]\n",
    "df['Self_check_in'] = [True if 'Self check-in' in sci else False for sci in df.Descriptions]"
   ]
  },
  {
   "cell_type": "code",
   "execution_count": 14,
   "metadata": {},
   "outputs": [
    {
     "data": {
      "text/plain": [
       "per night    202\n",
       "Name: Price, dtype: int64"
      ]
     },
     "execution_count": 14,
     "metadata": {},
     "output_type": "execute_result"
    }
   ],
   "source": [
    "us_to_myr = 4.5\n",
    "\n",
    "df['Price_in_MYR'] = df.Price.apply(lambda x: int(x.split(' ')[0].replace('$', '')) * us_to_myr)\n",
    "# to double confirm if every listing is per night\n",
    "unit_price = df.Price.apply(lambda x: ' '.join(x.split(' ')[1:]))\n",
    "unit_price.value_counts()"
   ]
  },
  {
   "cell_type": "code",
   "execution_count": 17,
   "metadata": {},
   "outputs": [
    {
     "data": {
      "text/html": [
       "<div>\n",
       "<style scoped>\n",
       "    .dataframe tbody tr th:only-of-type {\n",
       "        vertical-align: middle;\n",
       "    }\n",
       "\n",
       "    .dataframe tbody tr th {\n",
       "        vertical-align: top;\n",
       "    }\n",
       "\n",
       "    .dataframe thead th {\n",
       "        text-align: right;\n",
       "    }\n",
       "</style>\n",
       "<table border=\"1\" class=\"dataframe\">\n",
       "  <thead>\n",
       "    <tr style=\"text-align: right;\">\n",
       "      <th></th>\n",
       "      <th>Location</th>\n",
       "      <th>Room</th>\n",
       "      <th>Guests</th>\n",
       "      <th>bed_type</th>\n",
       "      <th>Number_of_bed</th>\n",
       "      <th>Number_of_bath</th>\n",
       "      <th>wifi</th>\n",
       "      <th>Air_cond</th>\n",
       "      <th>Kitchen</th>\n",
       "      <th>Self_check_in</th>\n",
       "      <th>Price_in_MYR</th>\n",
       "    </tr>\n",
       "  </thead>\n",
       "  <tbody>\n",
       "    <tr>\n",
       "      <th>0</th>\n",
       "      <td>Kuala Lumpur</td>\n",
       "      <td>Entire serviced apartment</td>\n",
       "      <td>4</td>\n",
       "      <td>Studio</td>\n",
       "      <td>1</td>\n",
       "      <td>1 bath</td>\n",
       "      <td>True</td>\n",
       "      <td>True</td>\n",
       "      <td>True</td>\n",
       "      <td>True</td>\n",
       "      <td>85.5</td>\n",
       "    </tr>\n",
       "    <tr>\n",
       "      <th>1</th>\n",
       "      <td>Kuala Lumpur</td>\n",
       "      <td>Entire serviced apartment</td>\n",
       "      <td>2</td>\n",
       "      <td>Studio</td>\n",
       "      <td>1</td>\n",
       "      <td>1 bath</td>\n",
       "      <td>True</td>\n",
       "      <td>True</td>\n",
       "      <td>True</td>\n",
       "      <td>False</td>\n",
       "      <td>117.0</td>\n",
       "    </tr>\n",
       "    <tr>\n",
       "      <th>2</th>\n",
       "      <td>Kuala Lumpur</td>\n",
       "      <td>Entire rental unit</td>\n",
       "      <td>2</td>\n",
       "      <td>1 bedroom</td>\n",
       "      <td>1</td>\n",
       "      <td>1 bath</td>\n",
       "      <td>True</td>\n",
       "      <td>True</td>\n",
       "      <td>True</td>\n",
       "      <td>True</td>\n",
       "      <td>157.5</td>\n",
       "    </tr>\n",
       "    <tr>\n",
       "      <th>3</th>\n",
       "      <td>Kuala Lumpur</td>\n",
       "      <td>Entire serviced apartment</td>\n",
       "      <td>6</td>\n",
       "      <td>3 bedrooms</td>\n",
       "      <td>3</td>\n",
       "      <td>2 baths</td>\n",
       "      <td>True</td>\n",
       "      <td>True</td>\n",
       "      <td>True</td>\n",
       "      <td>False</td>\n",
       "      <td>49.5</td>\n",
       "    </tr>\n",
       "    <tr>\n",
       "      <th>4</th>\n",
       "      <td>Kuala Lumpur</td>\n",
       "      <td>Hotel room</td>\n",
       "      <td>2</td>\n",
       "      <td>1 bedroom</td>\n",
       "      <td>1</td>\n",
       "      <td>1 private bath</td>\n",
       "      <td>True</td>\n",
       "      <td>True</td>\n",
       "      <td>False</td>\n",
       "      <td>True</td>\n",
       "      <td>58.5</td>\n",
       "    </tr>\n",
       "  </tbody>\n",
       "</table>\n",
       "</div>"
      ],
      "text/plain": [
       "       Location                       Room Guests     bed_type Number_of_bed  \\\n",
       "0  Kuala Lumpur  Entire serviced apartment      4       Studio             1   \n",
       "1  Kuala Lumpur  Entire serviced apartment      2       Studio             1   \n",
       "2  Kuala Lumpur         Entire rental unit      2    1 bedroom             1   \n",
       "3  Kuala Lumpur  Entire serviced apartment      6   3 bedrooms             3   \n",
       "4  Kuala Lumpur                 Hotel room      2    1 bedroom             1   \n",
       "\n",
       "    Number_of_bath  wifi  Air_cond  Kitchen  Self_check_in  Price_in_MYR  \n",
       "0           1 bath  True      True     True           True          85.5  \n",
       "1           1 bath  True      True     True          False         117.0  \n",
       "2           1 bath  True      True     True           True         157.5  \n",
       "3          2 baths  True      True     True          False          49.5  \n",
       "4   1 private bath  True      True    False           True          58.5  "
      ]
     },
     "execution_count": 17,
     "metadata": {},
     "output_type": "execute_result"
    }
   ],
   "source": [
    "useful_features = ['Location', 'Room', 'Guests', 'bed_type', 'Number_of_bed', 'Number_of_bath', 'wifi', 'Air_cond', 'Kitchen', 'Self_check_in', 'Price_in_MYR']\n",
    "data = df[useful_features]\n",
    "data.head()"
   ]
  },
  {
   "cell_type": "code",
   "execution_count": 16,
   "metadata": {},
   "outputs": [],
   "source": [
    "# df.sort_values(by='Number_of_bath')"
   ]
  }
 ],
 "metadata": {
  "kernelspec": {
   "display_name": "Python 3",
   "language": "python",
   "name": "python3"
  },
  "language_info": {
   "codemirror_mode": {
    "name": "ipython",
    "version": 3
   },
   "file_extension": ".py",
   "mimetype": "text/x-python",
   "name": "python",
   "nbconvert_exporter": "python",
   "pygments_lexer": "ipython3",
   "version": "3.8.5"
  }
 },
 "nbformat": 4,
 "nbformat_minor": 4
}
